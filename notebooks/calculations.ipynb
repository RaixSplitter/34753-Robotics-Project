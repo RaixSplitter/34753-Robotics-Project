{
 "cells": [
  {
   "cell_type": "code",
   "execution_count": 524,
   "metadata": {},
   "outputs": [],
   "source": [
    "# from sympy.assumptions.assume import global_assumptions\n",
    "# from sympy.assumptions.ask import Q\n",
    "# global_assumptions.add(Q.real(x))"
   ]
  },
  {
   "cell_type": "code",
   "execution_count": 525,
   "metadata": {},
   "outputs": [],
   "source": [
    "import numpy as np\n",
    "from sympy import symbols, cos, sin, Matrix, atan2, acos, sqrt, pi, Array\n",
    "import sympy\n",
    "import mpmath"
   ]
  },
  {
   "cell_type": "markdown",
   "metadata": {},
   "source": [
    "# Helper functions"
   ]
  },
  {
   "cell_type": "code",
   "execution_count": 526,
   "metadata": {},
   "outputs": [],
   "source": [
    "def A_dh(theta, d, a, alpha, type, radians = False):\n",
    "    if not radians and not isinstance(theta, sympy.core.symbol.Symbol):\n",
    "        theta = theta / 180 * sympy.pi\n",
    "    if not radians and not isinstance(alpha, sympy.core.symbol.Symbol):\n",
    "        alpha = alpha / 180 * sympy.pi\n",
    "    return Matrix([\n",
    "        [cos(theta), -sin(theta)*cos(alpha), sin(theta)*sin(alpha), a*cos(theta)],\n",
    "        [sin(theta), cos(theta)*cos(alpha), -cos(theta)*sin(alpha), a*sin(theta)],\n",
    "        [0, sin(alpha), cos(alpha), d],\n",
    "        [0, 0, 0, 1]\n",
    "    ])\n",
    "\n",
    "def A_trans(x, y, z, type):\n",
    "    return Matrix([\n",
    "        [1, 0, 0, x],\n",
    "        [0, 1, 0, y],\n",
    "        [0, 0, 1, z],\n",
    "        [0, 0, 0, 1]\n",
    "    ])\n",
    "    \n",
    "\n"
   ]
  },
  {
   "cell_type": "markdown",
   "metadata": {},
   "source": [
    "# Config\n",
    " "
   ]
  },
  {
   "cell_type": "code",
   "execution_count": 527,
   "metadata": {},
   "outputs": [],
   "source": [
    "theta_1, theta_2, theta_3, theta_4= symbols('theta_1 theta_2 theta_3 theta_4')"
   ]
  },
  {
   "cell_type": "code",
   "execution_count": 528,
   "metadata": {},
   "outputs": [],
   "source": [
    "dh_conv = {\n",
    "    1 : {'theta': theta_1, 'd': 50/1000, 'a': 0, 'alpha': 90, 'type': 'revolute'},\n",
    "    2 : {'theta': theta_2, 'd': 0, 'a': 93/1000, 'alpha': 0, 'type': 'revolute'},\n",
    "    3 : {'theta': theta_3, 'd': 0, 'a': 93/1000, 'alpha': 0, 'type': 'revolute'},\n",
    "    4 : {'theta': theta_4, 'd': 0, 'a': 50/1000, 'alpha': 0, 'type': 'revolute'},\n",
    "    5: {'x' : -15/1000, 'y' : 45/1000, 'z' : 0, 'type': 'transformation'}\n",
    "}\n",
    "\n"
   ]
  },
  {
   "cell_type": "code",
   "execution_count": 529,
   "metadata": {},
   "outputs": [
    {
     "name": "stdout",
     "output_type": "stream",
     "text": [
      "{'theta': theta_1, 'd': 0.05, 'a': 0, 'alpha': 90, 'type': 'revolute'}\n",
      "{'theta': theta_2, 'd': 0, 'a': 0.093, 'alpha': 0, 'type': 'revolute'}\n",
      "{'theta': theta_3, 'd': 0, 'a': 0.093, 'alpha': 0, 'type': 'revolute'}\n",
      "{'theta': theta_4, 'd': 0, 'a': 0.05, 'alpha': 0, 'type': 'revolute'}\n",
      "{'x': -0.015, 'y': 0.045, 'z': 0, 'type': 'transformation'}\n"
     ]
    }
   ],
   "source": [
    "for i, a in dh_conv.items():\n",
    "    print(a)"
   ]
  },
  {
   "cell_type": "code",
   "execution_count": 530,
   "metadata": {},
   "outputs": [],
   "source": [
    "A = {\n",
    "    '01' : A_dh(**dh_conv[1]),\n",
    "    '12' : A_dh(**dh_conv[2]),\n",
    "    '23' : A_dh(**dh_conv[3]),\n",
    "    '34' : A_dh(**dh_conv[4]),\n",
    "    '45' : A_trans(**dh_conv[5])\n",
    "}"
   ]
  },
  {
   "cell_type": "code",
   "execution_count": 531,
   "metadata": {},
   "outputs": [],
   "source": [
    "T = {\n",
    "    '00' : sympy.eye(4),\n",
    "    '01' : sympy.simplify(A['01']),\n",
    "    '02' : sympy.simplify(A['01']*A['12']),\n",
    "    '03' : sympy.simplify(A['01']*A['12']*A['23']),\n",
    "    '04' : sympy.simplify(A['01']*A['12']*A['23']*A['34']),\n",
    "    '05' : sympy.simplify(A['01']*A['12']*A['23']*A['34']*A['45'])\n",
    "    # '05' : sympy.simplify(A['45']*A['34']*A['23']*A['12']*A['01'])\n",
    "}"
   ]
  },
  {
   "cell_type": "code",
   "execution_count": 532,
   "metadata": {},
   "outputs": [],
   "source": [
    "def jacobian_inner(t, joint, o_n):\n",
    "    joint_type = joint['type']\n",
    "    z = t[:3,2]\n",
    "    o = t[:3,3]\n",
    "    \n",
    "    if joint_type == 'revolute':\n",
    "        j = z.cross(o_n - o)\n",
    "        return Matrix.vstack(j, z)\n",
    "    else:\n",
    "        return Matrix.vstack(z, Matrix.zeros(3,1))\n",
    "    \n",
    "\n",
    "def jacobian(T_, joints):\n",
    "    o_n = T_[-1][:3,3]\n",
    "    J = Matrix.zeros(6, len(joints))\n",
    "    for idx, joint in enumerate(joints):\n",
    "        t = T_[idx]\n",
    "        j = jacobian_inner(t, joint, o_n)\n",
    "        \n",
    "        J[:, idx] = j\n",
    "        \n",
    "    return sympy.simplify(J)\n",
    "\n",
    "def jacobian_all(T_, dh_conv_):\n",
    "    J = {}\n",
    "    for idx, joint in enumerate(dh_conv_):\n",
    "        t = list(T_.values())[:idx+1]\n",
    "        joints = list(dh_conv_.values())[:idx+1]\n",
    "        J[idx] = jacobian(t, joints)\n",
    "    return J"
   ]
  },
  {
   "cell_type": "code",
   "execution_count": 533,
   "metadata": {},
   "outputs": [
    {
     "data": {
      "text/latex": [
       "$\\displaystyle \\left[\\begin{matrix}- 0.093 \\left(\\cos{\\left(\\theta_{2} \\right)} + \\cos{\\left(\\theta_{2} + \\theta_{3} \\right)}\\right) \\sin{\\left(\\theta_{1} \\right)} & \\left(- 0.093 \\sin{\\left(\\theta_{2} \\right)} - 0.093 \\sin{\\left(\\theta_{2} + \\theta_{3} \\right)} + 6.93889390390723 \\cdot 10^{-18}\\right) \\cos{\\left(\\theta_{1} \\right)} & \\left(6.93889390390723 \\cdot 10^{-18} - 0.093 \\sin{\\left(\\theta_{2} + \\theta_{3} \\right)}\\right) \\cos{\\left(\\theta_{1} \\right)}\\\\0.093 \\left(\\cos{\\left(\\theta_{2} \\right)} + \\cos{\\left(\\theta_{2} + \\theta_{3} \\right)}\\right) \\cos{\\left(\\theta_{1} \\right)} & \\left(- 0.093 \\sin{\\left(\\theta_{2} \\right)} - 0.093 \\sin{\\left(\\theta_{2} + \\theta_{3} \\right)} + 6.93889390390723 \\cdot 10^{-18}\\right) \\sin{\\left(\\theta_{1} \\right)} & \\left(6.93889390390723 \\cdot 10^{-18} - 0.093 \\sin{\\left(\\theta_{2} + \\theta_{3} \\right)}\\right) \\sin{\\left(\\theta_{1} \\right)}\\\\0 & 0.093 \\cos{\\left(\\theta_{2} \\right)} + 0.093 \\cos{\\left(\\theta_{2} + \\theta_{3} \\right)} & 0.093 \\cos{\\left(\\theta_{2} + \\theta_{3} \\right)}\\\\0 & \\sin{\\left(\\theta_{1} \\right)} & \\sin{\\left(\\theta_{1} \\right)}\\\\0 & - \\cos{\\left(\\theta_{1} \\right)} & - \\cos{\\left(\\theta_{1} \\right)}\\\\1 & 0 & 0\\end{matrix}\\right]$"
      ],
      "text/plain": [
       "Matrix([\n",
       "[-0.093*(cos(theta_2) + cos(theta_2 + theta_3))*sin(theta_1), (-0.093*sin(theta_2) - 0.093*sin(theta_2 + theta_3) + 6.93889390390723e-18)*cos(theta_1), (6.93889390390723e-18 - 0.093*sin(theta_2 + theta_3))*cos(theta_1)],\n",
       "[ 0.093*(cos(theta_2) + cos(theta_2 + theta_3))*cos(theta_1), (-0.093*sin(theta_2) - 0.093*sin(theta_2 + theta_3) + 6.93889390390723e-18)*sin(theta_1), (6.93889390390723e-18 - 0.093*sin(theta_2 + theta_3))*sin(theta_1)],\n",
       "[                                                          0,                                        0.093*cos(theta_2) + 0.093*cos(theta_2 + theta_3),                                       0.093*cos(theta_2 + theta_3)],\n",
       "[                                                          0,                                                                             sin(theta_1),                                                       sin(theta_1)],\n",
       "[                                                          0,                                                                            -cos(theta_1),                                                      -cos(theta_1)],\n",
       "[                                                          1,                                                                                        0,                                                                  0]])"
      ]
     },
     "execution_count": 533,
     "metadata": {},
     "output_type": "execute_result"
    }
   ],
   "source": [
    "J_end = jacobian(list(T.values())[:4], list(dh_conv.values())[:3])\n",
    "J_end\n"
   ]
  },
  {
   "cell_type": "code",
   "execution_count": 534,
   "metadata": {},
   "outputs": [],
   "source": [
    "def point_on_circle(phi: float, radius: float = 32/1000):\n",
    "    centre = Array([150/1000, 0, 120/1000])\n",
    "    return centre + radius * Array([0, cos(phi), sin(phi)])"
   ]
  },
  {
   "cell_type": "code",
   "execution_count": 540,
   "metadata": {},
   "outputs": [
    {
     "data": {
      "text/plain": [
       "(-1.36061374013273 + pi,\n",
       " -0.239730216951784,\n",
       " -1.47169003299079 + pi,\n",
       " 1.71142024994257 - pi)"
      ]
     },
     "execution_count": 540,
     "metadata": {},
     "output_type": "execute_result"
    }
   ],
   "source": [
    "def inv_kinematics(x,y,z,phi, dh_conv):\n",
    "    \"\"\"\n",
    "    Hardcoded inverse kinematics for the robot arm\n",
    "    \"\"\"\n",
    "    \n",
    "    theta1 = atan2(y, x)\n",
    "    \n",
    "    a2 = dh_conv[2]['a']\n",
    "    a3 = dh_conv[3]['a']\n",
    "    a4 = dh_conv[4]['a']\n",
    "    \n",
    "    d1 = dh_conv[1]['d']\n",
    "    \n",
    "    r = sqrt(x**2 + y**2)\n",
    "    r2 = cos(phi)*a4\n",
    "    \n",
    "    #Given r = r1 + r2\n",
    "    r1 = r - r2\n",
    "    \n",
    "    z1 = d1\n",
    "    z3 = sin(phi)*a4\n",
    "    \n",
    "    #Given z = z1 + z2 + z3\n",
    "    z2 = z - z1 - z3\n",
    "    \n",
    "    c23 = sqrt(z2**2 + r1**2)\n",
    "    \n",
    "    c3 = ((c23**2) - (a2**2) - (a3**2)) / (2*a2*a3)\n",
    "    \n",
    "    \n",
    "    D = (c23**2 - a2**2 - a3**2)/(-2*a2*a3)\n",
    "    theta3 = -(atan2(sqrt(1-D**2), D) - pi)\n",
    "\n",
    "    \n",
    "    # #two solutions for theta3\n",
    "    # print(\"c3\", c3)\n",
    "    \n",
    "    # theta3_1 = atan2(-sqrt(1 - c3**2), c3)\n",
    "    # theta3_2 = atan2(sqrt(1 - c3**2), c3)\n",
    "    \n",
    "    \n",
    "    # print(\"theta3_1\", theta3_1)\n",
    "    # print(\"theta3_2\", theta3_2)\n",
    "    \n",
    "    # theta3 = theta3_1\n",
    "    \n",
    "    theta2 = atan2(z2, r1) - atan2(a3*sin(theta3), a2 + a3*cos(theta3))\n",
    "    \n",
    "    theta4 = phi - theta2 - theta3\n",
    "    \n",
    "    \n",
    "    return theta1, theta2, theta3, theta4\n",
    "\n",
    "inv_kinematics(-0.032,0.15, 0.12, 0, dh_conv)\n"
   ]
  },
  {
   "cell_type": "code",
   "execution_count": null,
   "metadata": {},
   "outputs": [],
   "source": []
  },
  {
   "cell_type": "code",
   "execution_count": 541,
   "metadata": {},
   "outputs": [],
   "source": [
    "\n",
    "def jacobian_point(J, _theta_1, _theta_2, _theta_3, _theta_4):\n",
    "    \"\"\"Computes jacobian given joint angles\"\"\"\n",
    "    res = sympy.lambdify((theta_1, theta_2, theta_3, theta_4), J, 'sympy')\n",
    "    return res(_theta_1, _theta_2, _theta_3, _theta_4)\n",
    "\n",
    "def jacobian_circle_angle(J, phi, end_angle, dh_conv):\n",
    "    \"\"\"Computes jacobian given an angle of a circle\"\"\"\n",
    "    \n",
    "    point_on_circle(J, phi) #Compute coordinates of point on circle\n",
    "    \n",
    "    #Compute angles of joints\n",
    "    _theta_1, _theta_2, _theta_3, _theta_4 = inv_kinematics(*point_on_circle(phi), end_angle, dh_conv)\n",
    "    \n",
    "\n",
    "    #Compute jacobian\n",
    "    return jacobian_point(J, _theta_1, _theta_2, _theta_3, _theta_4)\n"
   ]
  },
  {
   "cell_type": "code",
   "execution_count": 542,
   "metadata": {},
   "outputs": [
    {
     "data": {
      "text/latex": [
       "$\\displaystyle \\left[\\begin{matrix}0.0215680764114741 & -0.0684594985497015 & -0.0900555097184086\\\\0.101100358178785 & 0.0146046930239363 & 0.0192118420732605\\\\0 & 0.103375356560303 & 0.0130349642695982\\\\0 & -0.208638471770519 & -0.208638471770519\\\\0 & -0.977992836424308 & -0.977992836424308\\\\1 & 0 & 0\\end{matrix}\\right]$"
      ],
      "text/plain": [
       "Matrix([\n",
       "[0.0215680764114741, -0.0684594985497015, -0.0900555097184086],\n",
       "[ 0.101100358178785,  0.0146046930239363,  0.0192118420732605],\n",
       "[                 0,   0.103375356560303,  0.0130349642695982],\n",
       "[                 0,  -0.208638471770519,  -0.208638471770519],\n",
       "[                 0,  -0.977992836424308,  -0.977992836424308],\n",
       "[                 1,                   0,                   0]])"
      ]
     },
     "execution_count": 542,
     "metadata": {},
     "output_type": "execute_result"
    }
   ],
   "source": [
    "J_end = jacobian(list(T.values())[:4], list(dh_conv.values())[:3])\n",
    "J_end\n",
    "\n",
    "# r1 = jacobian_circle_angle(J_end, 0)\n",
    "# r2 = jacobian_circle_angle(J_end, pi/2)\n",
    "r3 = jacobian_circle_angle(J_end, pi, 0, dh_conv)\n",
    "# r4 = jacobian_circle_angle(J_end, 3*pi / 2)\n",
    "\n",
    "# print(np.array(r1))\n",
    "# print(np.array(r2))\n",
    "# print((r3))\n",
    "# print(np.array(r4))\n",
    "r3"
   ]
  },
  {
   "cell_type": "code",
   "execution_count": 549,
   "metadata": {},
   "outputs": [
    {
     "name": "stdout",
     "output_type": "stream",
     "text": [
      "[[-0.032 -0.068 -0.09   0.   ]\n",
      " [ 0.15  -0.015 -0.019  0.   ]\n",
      " [ 0.     0.153  0.063  0.05 ]\n",
      " [ 0.     0.209  0.209  0.209]\n",
      " [ 0.    -0.978 -0.978 -0.978]\n",
      " [ 1.     0.     0.     0.   ]]\n",
      "[[ 0.    -0.102 -0.093  0.   ]\n",
      " [ 0.15   0.     0.     0.   ]\n",
      " [ 0.     0.15   0.057  0.05 ]\n",
      " [ 0.     0.     0.     0.   ]\n",
      " [ 0.    -1.    -1.    -1.   ]\n",
      " [ 1.     0.     0.     0.   ]]\n",
      "[[ 0.032 -0.068 -0.09   0.   ]\n",
      " [ 0.15   0.015  0.019  0.   ]\n",
      " [ 0.     0.153  0.063  0.05 ]\n",
      " [ 0.    -0.209 -0.209 -0.209]\n",
      " [ 0.    -0.978 -0.978 -0.978]\n",
      " [ 1.     0.     0.     0.   ]]\n",
      "[[ 0.    -0.038 -0.09   0.   ]\n",
      " [ 0.15   0.     0.     0.   ]\n",
      " [ 0.     0.15   0.073  0.05 ]\n",
      " [ 0.     0.     0.     0.   ]\n",
      " [ 0.    -1.    -1.    -1.   ]\n",
      " [ 1.     0.     0.     0.   ]]\n"
     ]
    }
   ],
   "source": [
    "J_cam = jacobian(list(T.values())[:5], list(dh_conv.values())[:4])\n",
    "J_cam\n",
    "\n",
    "ROUNDING_FACTOR = 3\n",
    "\n",
    "r1 = jacobian_circle_angle(J_cam, 0, 0, dh_conv)\n",
    "r2 = jacobian_circle_angle(J_cam, pi/2, 0, dh_conv)\n",
    "r3 = jacobian_circle_angle(J_cam, pi, 0, dh_conv)\n",
    "r4 = jacobian_circle_angle(J_cam, 3*pi / 2, 0, dh_conv)\n",
    "\n",
    "print(np.round(np.array(r1).astype(np.float64), ROUNDING_FACTOR))\n",
    "print(np.round(np.array(r2).astype(np.float64), ROUNDING_FACTOR))\n",
    "print(np.round(np.array(r3).astype(np.float64), ROUNDING_FACTOR))\n",
    "print(np.round(np.array(r4).astype(np.float64), ROUNDING_FACTOR))"
   ]
  },
  {
   "cell_type": "code",
   "execution_count": 550,
   "metadata": {},
   "outputs": [
    {
     "name": "stdout",
     "output_type": "stream",
     "text": [
      "[[-0.029 -0.112 -0.134 -0.044  0.209]\n",
      " [ 0.135 -0.024 -0.029 -0.009 -0.978]\n",
      " [ 0.     0.138  0.048  0.035  0.   ]\n",
      " [ 0.     0.209  0.209  0.209  0.   ]\n",
      " [ 0.    -0.978 -0.978 -0.978  0.   ]\n",
      " [ 1.     0.     0.     0.     0.   ]]\n",
      "[[ 0.    -0.147 -0.138 -0.045  0.   ]\n",
      " [ 0.135  0.     0.     0.    -1.   ]\n",
      " [ 0.     0.135  0.042  0.035  0.   ]\n",
      " [ 0.     0.     0.     0.     0.   ]\n",
      " [ 0.    -1.    -1.    -1.     0.   ]\n",
      " [ 1.     0.     0.     0.     0.   ]]\n",
      "[[ 0.029 -0.112 -0.134 -0.044 -0.209]\n",
      " [ 0.135  0.024  0.029  0.009 -0.978]\n",
      " [ 0.     0.138  0.048  0.035  0.   ]\n",
      " [ 0.    -0.209 -0.209 -0.209  0.   ]\n",
      " [ 0.    -0.978 -0.978 -0.978  0.   ]\n",
      " [ 1.     0.     0.     0.     0.   ]]\n",
      "[[ 0.    -0.083 -0.135 -0.045  0.   ]\n",
      " [ 0.135  0.     0.     0.    -1.   ]\n",
      " [ 0.     0.135  0.058  0.035  0.   ]\n",
      " [ 0.     0.     0.     0.     0.   ]\n",
      " [ 0.    -1.    -1.    -1.     0.   ]\n",
      " [ 1.     0.     0.     0.     0.   ]]\n"
     ]
    }
   ],
   "source": [
    "J_cam = jacobian(list(T.values())[:6], list(dh_conv.values())[:5])\n",
    "J_cam\n",
    "\n",
    "r1 = jacobian_circle_angle(J_cam, 0, 0, dh_conv)\n",
    "r2 = jacobian_circle_angle(J_cam, pi/2, 0, dh_conv)\n",
    "r3 = jacobian_circle_angle(J_cam, pi, 0, dh_conv)\n",
    "r4 = jacobian_circle_angle(J_cam, 3*pi / 2, 0, dh_conv)\n",
    "\n",
    "print(np.round(np.array(r1).astype(np.float64), ROUNDING_FACTOR))\n",
    "print(np.round(np.array(r2).astype(np.float64), ROUNDING_FACTOR))\n",
    "print(np.round(np.array(r3).astype(np.float64), ROUNDING_FACTOR))\n",
    "print(np.round(np.array(r4).astype(np.float64), ROUNDING_FACTOR))"
   ]
  },
  {
   "cell_type": "code",
   "execution_count": 553,
   "metadata": {},
   "outputs": [
    {
     "data": {
      "text/latex": [
       "$\\displaystyle \\left[\\begin{matrix}\\cos{\\left(\\theta_{1} \\right)} & 0 & \\sin{\\left(\\theta_{1} \\right)} & 0\\\\\\sin{\\left(\\theta_{1} \\right)} & 0 & - \\cos{\\left(\\theta_{1} \\right)} & 0\\\\0 & 1 & 0 & 0.05\\\\0 & 0 & 0 & 1\\end{matrix}\\right]$"
      ],
      "text/plain": [
       "Matrix([\n",
       "[cos(theta_1), 0,  sin(theta_1),    0],\n",
       "[sin(theta_1), 0, -cos(theta_1),    0],\n",
       "[           0, 1,             0, 0.05],\n",
       "[           0, 0,             0,    1]])"
      ]
     },
     "execution_count": 553,
     "metadata": {},
     "output_type": "execute_result"
    }
   ],
   "source": [
    "T['01']"
   ]
  },
  {
   "cell_type": "code",
   "execution_count": null,
   "metadata": {},
   "outputs": [],
   "source": []
  }
 ],
 "metadata": {
  "kernelspec": {
   "display_name": ".venv",
   "language": "python",
   "name": "python3"
  },
  "language_info": {
   "codemirror_mode": {
    "name": "ipython",
    "version": 3
   },
   "file_extension": ".py",
   "mimetype": "text/x-python",
   "name": "python",
   "nbconvert_exporter": "python",
   "pygments_lexer": "ipython3",
   "version": "3.10.11"
  }
 },
 "nbformat": 4,
 "nbformat_minor": 2
}
