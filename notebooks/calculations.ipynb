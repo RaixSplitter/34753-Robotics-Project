{
 "cells": [
  {
   "cell_type": "code",
   "execution_count": 224,
   "metadata": {},
   "outputs": [],
   "source": [
    "import numpy as np\n",
    "from sympy import symbols, cos, sin, Matrix, atan2, acos, sqrt, pi, Array\n",
    "import sympy\n",
    "import mpmath"
   ]
  },
  {
   "cell_type": "markdown",
   "metadata": {},
   "source": [
    "# Helper functions"
   ]
  },
  {
   "cell_type": "code",
   "execution_count": 225,
   "metadata": {},
   "outputs": [],
   "source": [
    "def A_dh(theta, d, a, alpha, type, radians = False):\n",
    "    if not radians and not isinstance(theta, sympy.core.symbol.Symbol):\n",
    "        theta = theta / 180 * sympy.pi\n",
    "    if not radians and not isinstance(alpha, sympy.core.symbol.Symbol):\n",
    "        alpha = alpha / 180 * sympy.pi\n",
    "    return Matrix([\n",
    "        [cos(theta), -sin(theta)*cos(alpha), sin(theta)*sin(alpha), a*cos(theta)],\n",
    "        [sin(theta), cos(theta)*cos(alpha), -cos(theta)*sin(alpha), a*sin(theta)],\n",
    "        [0, sin(alpha), cos(alpha), d],\n",
    "        [0, 0, 0, 1]\n",
    "    ])\n",
    "\n",
    "def A_trans(x, y, z, type):\n",
    "    return Matrix([\n",
    "        [1, 0, 0, x],\n",
    "        [0, 1, 0, y],\n",
    "        [0, 0, 1, z],\n",
    "        [0, 0, 0, 1]\n",
    "    ])\n",
    "    \n",
    "\n"
   ]
  },
  {
   "cell_type": "markdown",
   "metadata": {},
   "source": [
    "# Config\n",
    " "
   ]
  },
  {
   "cell_type": "code",
   "execution_count": 226,
   "metadata": {},
   "outputs": [],
   "source": [
    "theta_1, theta_2, theta_3, theta_4= symbols('theta_1 theta_2 theta_3 theta_4')"
   ]
  },
  {
   "cell_type": "code",
   "execution_count": 227,
   "metadata": {},
   "outputs": [],
   "source": [
    "dh_conv = {\n",
    "    1 : {'theta': theta_1, 'd': 50/1000, 'a': 0, 'alpha': 90, 'type': 'revolute'},\n",
    "    2 : {'theta': theta_2, 'd': 0, 'a': 93/1000, 'alpha': 0, 'type': 'revolute'},\n",
    "    3 : {'theta': theta_3, 'd': 0, 'a': 93/1000, 'alpha': 0, 'type': 'revolute'},\n",
    "    4 : {'theta': theta_4, 'd': 0, 'a': 50/1000, 'alpha': 0, 'type': 'revolute'},\n",
    "    5: {'x' : -15/1000, 'y' : 45/1000, 'z' : 0, 'type': 'transformation'}\n",
    "}\n",
    "\n"
   ]
  },
  {
   "cell_type": "code",
   "execution_count": null,
   "metadata": {},
   "outputs": [],
   "source": []
  },
  {
   "cell_type": "code",
   "execution_count": 228,
   "metadata": {},
   "outputs": [
    {
     "data": {
      "text/plain": [
       "np.float64(1.5707963267948966)"
      ]
     },
     "execution_count": 228,
     "metadata": {},
     "output_type": "execute_result"
    }
   ],
   "source": [
    "np.radians(90)"
   ]
  },
  {
   "cell_type": "code",
   "execution_count": 229,
   "metadata": {},
   "outputs": [
    {
     "name": "stdout",
     "output_type": "stream",
     "text": [
      "{'theta': theta_1, 'd': 0.05, 'a': 0, 'alpha': 90, 'type': 'revolute'}\n",
      "{'theta': theta_2, 'd': 0, 'a': 0.093, 'alpha': 0, 'type': 'revolute'}\n",
      "{'theta': theta_3, 'd': 0, 'a': 0.093, 'alpha': 0, 'type': 'revolute'}\n",
      "{'theta': theta_4, 'd': 0, 'a': 0.05, 'alpha': 0, 'type': 'revolute'}\n",
      "{'x': -0.015, 'y': 0.045, 'z': 0, 'type': 'transformation'}\n"
     ]
    }
   ],
   "source": [
    "for i, a in dh_conv.items():\n",
    "    print(a)"
   ]
  },
  {
   "cell_type": "code",
   "execution_count": 230,
   "metadata": {},
   "outputs": [],
   "source": [
    "A = {\n",
    "    '01' : A_dh(**dh_conv[1]),\n",
    "    '12' : A_dh(**dh_conv[2]),\n",
    "    '23' : A_dh(**dh_conv[3]),\n",
    "    '34' : A_dh(**dh_conv[4]),\n",
    "    '45' : A_trans(**dh_conv[5])\n",
    "}"
   ]
  },
  {
   "cell_type": "code",
   "execution_count": 231,
   "metadata": {},
   "outputs": [],
   "source": [
    "T = {\n",
    "    '00' : sympy.eye(4),\n",
    "    '01' : sympy.simplify(A['01']),\n",
    "    '02' : sympy.simplify(A['01']*A['12']),\n",
    "    '03' : sympy.simplify(A['01']*A['12']*A['23']),\n",
    "    '04' : sympy.simplify(A['01']*A['12']*A['23']*A['34']),\n",
    "    '05' : sympy.simplify(A['01']*A['12']*A['23']*A['34']*A['45'])\n",
    "    # '05' : sympy.simplify(A['45']*A['34']*A['23']*A['12']*A['01'])\n",
    "}"
   ]
  },
  {
   "cell_type": "code",
   "execution_count": 249,
   "metadata": {},
   "outputs": [],
   "source": [
    "def jacobian_inner(t, joint, o_n):\n",
    "    joint_type = joint['type']\n",
    "    z = t[:3,2]\n",
    "    o = t[:3,3]\n",
    "    \n",
    "    if joint_type == 'revolute':\n",
    "        j = z.cross(o_n - o)\n",
    "        return Matrix.vstack(j, z)\n",
    "    else:\n",
    "        return Matrix.vstack(z, Matrix.zeros(3,1))\n",
    "    \n",
    "\n",
    "def jacobian(T_, joints):\n",
    "    o_n = T_[-1][:3,3]\n",
    "    J = Matrix.zeros(6, len(joints))\n",
    "    for idx, joint in enumerate(joints):\n",
    "        t = T_[idx]\n",
    "        j = jacobian_inner(t, joint, o_n)\n",
    "        \n",
    "        J[:, idx] = j\n",
    "        \n",
    "    return sympy.simplify(J)\n",
    "\n",
    "def jacobian_all(T_, dh_conv_):\n",
    "    J = {}\n",
    "    for idx, joint in enumerate(dh_conv_):\n",
    "        t = list(T_.values())[:idx+1]\n",
    "        joints = list(dh_conv_.values())[:idx+1]\n",
    "        J[idx] = jacobian(t, joints)\n",
    "    return J"
   ]
  },
  {
   "cell_type": "code",
   "execution_count": 250,
   "metadata": {},
   "outputs": [],
   "source": [
    "def point_on_circle(phi: float, radius: float = 32/1000):\n",
    "    centre = Array([150/1000, 0, 120/1000])\n",
    "    return centre + radius * Array([0, cos(phi), sin(phi)])"
   ]
  },
  {
   "cell_type": "code",
   "execution_count": 251,
   "metadata": {},
   "outputs": [],
   "source": [
    "def inv_kinematics(x,y,z,phi):\n",
    "    \"\"\" \"\"\"\n",
    "    L1,L2,L3,L4 = 50/1000, 93/1000, 93/1000, 50/1000 # m\n",
    "\n",
    "    theta1 = atan2(y, x)\n",
    "\n",
    "    A = x - L4*cos(theta1)*cos(phi)\n",
    "    B = y - L4*sin(theta1)*cos(phi)\n",
    "    C = z - L1 - L4*sin(phi)\n",
    "\n",
    "    theta3 = acos((A*A + B*B + C*C - L2*L2 - L3*L3)/(2*L2*L3))\n",
    "    a = L3*sin(theta3)\n",
    "    b = L2 + L3*cos(theta3)\n",
    "\n",
    "    c = z - L1 - L4*sin(phi)\n",
    "    r = sqrt(a*a + b*b)\n",
    "\n",
    "    theta2 = atan2(c, sqrt(r*r - c*c)) - atan2(a,b)\n",
    "\n",
    "    theta4 = phi - theta2 - theta3\n",
    "    \n",
    "    return theta1, theta2, theta3, theta4"
   ]
  },
  {
   "cell_type": "code",
   "execution_count": 262,
   "metadata": {},
   "outputs": [
    {
     "data": {
      "text/plain": [
       "(0.210182586662170, -0.239730216951784, 1.66990262059900, -1.43017240364722)"
      ]
     },
     "execution_count": 262,
     "metadata": {},
     "output_type": "execute_result"
    }
   ],
   "source": [
    "inv_kinematics(*point_on_circle(0), 0)"
   ]
  },
  {
   "cell_type": "code",
   "execution_count": 265,
   "metadata": {},
   "outputs": [],
   "source": [
    "\n",
    "def jacobian_point(J, _theta_1, _theta_2, _theta_3, _theta_4):\n",
    "    \"\"\"Computes jacobian given joint angles\"\"\"\n",
    "    res = sympy.lambdify((theta_1, theta_2, theta_3, theta_4), J, 'sympy')\n",
    "    return res(_theta_1, _theta_2, _theta_3, _theta_4)\n",
    "\n",
    "def jacobian_circle_angle(J, phi):\n",
    "    \"\"\"Computes jacobian given an angle of a circle\"\"\"\n",
    "    \n",
    "    point_on_circle(J, phi) #Compute coordinates of point on circle\n",
    "    \n",
    "    #Compute angles of joints\n",
    "    _theta_1, _theta_2, _theta_3, _theta_4 = inv_kinematics(*point_on_circle(phi), phi)\n",
    "    \n",
    "\n",
    "    #Compute jacobian\n",
    "    return jacobian_point(J, _theta_1, _theta_2, _theta_3, _theta_4)\n"
   ]
  },
  {
   "cell_type": "code",
   "execution_count": null,
   "metadata": {},
   "outputs": [
    {
     "name": "stdout",
     "output_type": "stream",
     "text": [
      "Matrix([[-0.0215680764114741, -0.0684594985497015, -0.0900555097184086], [0.101100358178785, -0.0146046930239363, -0.0192118420732605], [0, 0.103375356560303, 0.0130349642695982], [0, 0.208638471770519, 0.208638471770519], [0, -0.977992836424308, -0.977992836424308], [1, 0, 0]])\n",
      "Matrix([[0, -0.0520000000000000, -0.0717831394489319], [0.150000000000000, 0, 0], [0, 0.150000000000000, 0.0591285116577036], [0, 0, 0], [0, -1, -1], [1, 0, 0]])\n",
      "Matrix([[0.0424319235885260, -0.0684594985497015, -0.0342297492748508 - 0.0499397455863514*I], [0.198899641821215, 0.0146046930239363, 0.00730234651196816 + 0.010653812391755*I], [0, 0.203375356560303, 0.101687678280151 - 0.0175756082767954*I], [0, -0.208638471770519, -0.208638471770519], [0, -0.977992836424308, -0.977992836424308], [1, 0, 0]])\n",
      "Matrix([[0, -0.0880000000000000, -0.0724502503296009], [0.150000000000000, 0, 0], [0, 0.150000000000000, 0.0583091864733008], [0, 0, 0], [0, -1, -1], [1, 0, 0]])\n"
     ]
    }
   ],
   "source": [
    "J_end = jacobian(list(T.values())[:4], list(dh_conv.values())[:3])\n",
    "J_end\n",
    "\n",
    "r1 = jacobian_circle_angle(J_end, 0)\n",
    "r2 = jacobian_circle_angle(J_end, pi/2)\n",
    "r3 = jacobian_circle_angle(J_end, pi)\n",
    "r4 = jacobian_circle_angle(J_end, 3*pi / 2)\n",
    "\n",
    "print(r1)\n",
    "print(r2)\n",
    "print(r3)\n",
    "print(r4)"
   ]
  },
  {
   "cell_type": "code",
   "execution_count": 266,
   "metadata": {},
   "outputs": [
    {
     "data": {
      "text/latex": [
       "$\\displaystyle \\left[\\begin{matrix}- 0.093 \\left(\\cos{\\left(\\theta_{2} \\right)} + \\cos{\\left(\\theta_{2} + \\theta_{3} \\right)}\\right) \\sin{\\left(\\theta_{1} \\right)} & \\left(- 0.093 \\sin{\\left(\\theta_{2} \\right)} - 0.093 \\sin{\\left(\\theta_{2} + \\theta_{3} \\right)} + 6.93889390390723 \\cdot 10^{-18}\\right) \\cos{\\left(\\theta_{1} \\right)} & \\left(6.93889390390723 \\cdot 10^{-18} - 0.093 \\sin{\\left(\\theta_{2} + \\theta_{3} \\right)}\\right) \\cos{\\left(\\theta_{1} \\right)}\\\\0.093 \\left(\\cos{\\left(\\theta_{2} \\right)} + \\cos{\\left(\\theta_{2} + \\theta_{3} \\right)}\\right) \\cos{\\left(\\theta_{1} \\right)} & \\left(- 0.093 \\sin{\\left(\\theta_{2} \\right)} - 0.093 \\sin{\\left(\\theta_{2} + \\theta_{3} \\right)} + 6.93889390390723 \\cdot 10^{-18}\\right) \\sin{\\left(\\theta_{1} \\right)} & \\left(6.93889390390723 \\cdot 10^{-18} - 0.093 \\sin{\\left(\\theta_{2} + \\theta_{3} \\right)}\\right) \\sin{\\left(\\theta_{1} \\right)}\\\\0 & 0.093 \\cos{\\left(\\theta_{2} \\right)} + 0.093 \\cos{\\left(\\theta_{2} + \\theta_{3} \\right)} & 0.093 \\cos{\\left(\\theta_{2} + \\theta_{3} \\right)}\\\\0 & \\sin{\\left(\\theta_{1} \\right)} & \\sin{\\left(\\theta_{1} \\right)}\\\\0 & - \\cos{\\left(\\theta_{1} \\right)} & - \\cos{\\left(\\theta_{1} \\right)}\\\\1 & 0 & 0\\end{matrix}\\right]$"
      ],
      "text/plain": [
       "Matrix([\n",
       "[-0.093*(cos(theta_2) + cos(theta_2 + theta_3))*sin(theta_1), (-0.093*sin(theta_2) - 0.093*sin(theta_2 + theta_3) + 6.93889390390723e-18)*cos(theta_1), (6.93889390390723e-18 - 0.093*sin(theta_2 + theta_3))*cos(theta_1)],\n",
       "[ 0.093*(cos(theta_2) + cos(theta_2 + theta_3))*cos(theta_1), (-0.093*sin(theta_2) - 0.093*sin(theta_2 + theta_3) + 6.93889390390723e-18)*sin(theta_1), (6.93889390390723e-18 - 0.093*sin(theta_2 + theta_3))*sin(theta_1)],\n",
       "[                                                          0,                                        0.093*cos(theta_2) + 0.093*cos(theta_2 + theta_3),                                       0.093*cos(theta_2 + theta_3)],\n",
       "[                                                          0,                                                                             sin(theta_1),                                                       sin(theta_1)],\n",
       "[                                                          0,                                                                            -cos(theta_1),                                                      -cos(theta_1)],\n",
       "[                                                          1,                                                                                        0,                                                                  0]])"
      ]
     },
     "execution_count": 266,
     "metadata": {},
     "output_type": "execute_result"
    }
   ],
   "source": [
    "J_cam = jacobian(list(T.values())[:4], list(dh_conv.values())[:3])\n",
    "J_cam"
   ]
  },
  {
   "cell_type": "code",
   "execution_count": 257,
   "metadata": {},
   "outputs": [],
   "source": [
    "r1 = jacobian_circle_angle(J, 0)\n",
    "r2 = jacobian_circle_angle(J, pi/2)\n",
    "r3 = jacobian_circle_angle(J, pi)\n",
    "r4 = jacobian_circle_angle(J, 3*pi / 2)"
   ]
  },
  {
   "cell_type": "code",
   "execution_count": 261,
   "metadata": {},
   "outputs": [
    {
     "data": {
      "text/latex": [
       "$\\displaystyle \\left[\\begin{matrix}0 & -0.088 & -0.0724502503296009\\\\0.15 & 0 & 0\\\\0 & 0.15 & 0.0583091864733008\\\\0 & 0 & 0\\\\0 & -1 & -1\\\\1 & 0 & 0\\end{matrix}\\right]$"
      ],
      "text/plain": [
       "Matrix([\n",
       "[   0, -0.088, -0.0724502503296009],\n",
       "[0.15,      0,                   0],\n",
       "[   0,   0.15,  0.0583091864733008],\n",
       "[   0,      0,                   0],\n",
       "[   0,     -1,                  -1],\n",
       "[   1,      0,                   0]])"
      ]
     },
     "execution_count": 261,
     "metadata": {},
     "output_type": "execute_result"
    }
   ],
   "source": [
    "r4"
   ]
  }
 ],
 "metadata": {
  "kernelspec": {
   "display_name": ".venv",
   "language": "python",
   "name": "python3"
  },
  "language_info": {
   "codemirror_mode": {
    "name": "ipython",
    "version": 3
   },
   "file_extension": ".py",
   "mimetype": "text/x-python",
   "name": "python",
   "nbconvert_exporter": "python",
   "pygments_lexer": "ipython3",
   "version": "3.10.11"
  }
 },
 "nbformat": 4,
 "nbformat_minor": 2
}
