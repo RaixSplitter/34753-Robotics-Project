{
 "cells": [
  {
   "cell_type": "code",
   "execution_count": 1,
   "metadata": {},
   "outputs": [],
   "source": [
    "# from sympy.assumptions.assume import global_assumptions\n",
    "# from sympy.assumptions.ask import Q\n",
    "# global_assumptions.add(Q.real(x))"
   ]
  },
  {
   "cell_type": "code",
   "execution_count": 2,
   "metadata": {},
   "outputs": [],
   "source": [
    "import numpy as np\n",
    "from sympy import symbols, cos, sin, Matrix, atan2, acos, sqrt, pi, Array\n",
    "import sympy\n",
    "# import mpmath\n",
    "import matplotlib.pyplot as plt"
   ]
  },
  {
   "cell_type": "markdown",
   "metadata": {},
   "source": [
    "# Helper functions"
   ]
  },
  {
   "cell_type": "code",
   "execution_count": 3,
   "metadata": {},
   "outputs": [],
   "source": [
    "def A_dh(theta, d, a, alpha, type, radians = False):\n",
    "    if not radians and not isinstance(theta, sympy.core.symbol.Symbol):\n",
    "        theta = theta / 180 * sympy.pi\n",
    "    if not radians and not isinstance(alpha, sympy.core.symbol.Symbol):\n",
    "        alpha = alpha / 180 * sympy.pi\n",
    "    return Matrix([\n",
    "        [cos(theta), -sin(theta)*cos(alpha), sin(theta)*sin(alpha), a*cos(theta)],\n",
    "        [sin(theta), cos(theta)*cos(alpha), -cos(theta)*sin(alpha), a*sin(theta)],\n",
    "        [0, sin(alpha), cos(alpha), d],\n",
    "        [0, 0, 0, 1]\n",
    "    ])\n",
    "\n",
    "def A_trans(x, y, z, type):\n",
    "    return Matrix([\n",
    "        [1, 0, 0, x],\n",
    "        [0, 1, 0, y],\n",
    "        [0, 0, 1, z],\n",
    "        [0, 0, 0, 1]\n",
    "    ])\n",
    "    \n",
    "\n"
   ]
  },
  {
   "cell_type": "markdown",
   "metadata": {},
   "source": [
    "# Config\n",
    " "
   ]
  },
  {
   "cell_type": "code",
   "execution_count": 4,
   "metadata": {},
   "outputs": [],
   "source": [
    "theta_1, theta_2, theta_3, theta_4= symbols('theta_1 theta_2 theta_3 theta_4')"
   ]
  },
  {
   "cell_type": "code",
   "execution_count": 5,
   "metadata": {},
   "outputs": [],
   "source": [
    "dh_conv = {\n",
    "    1 : {'theta': theta_1, 'd': 50/1000, 'a': 0, 'alpha': 90, 'type': 'revolute'},\n",
    "    2 : {'theta': theta_2, 'd': 0, 'a': 93/1000, 'alpha': 0, 'type': 'revolute'},\n",
    "    3 : {'theta': theta_3, 'd': 0, 'a': 93/1000, 'alpha': 0, 'type': 'revolute'},\n",
    "    4 : {'theta': theta_4, 'd': 0, 'a': 50/1000, 'alpha': 0, 'type': 'revolute'},\n",
    "    5: {'x' : -15/1000, 'y' : 45/1000, 'z' : 0, 'type': 'transformation'}\n",
    "}\n",
    "\n"
   ]
  },
  {
   "cell_type": "code",
   "execution_count": 6,
   "metadata": {},
   "outputs": [
    {
     "name": "stdout",
     "output_type": "stream",
     "text": [
      "{'theta': theta_1, 'd': 0.05, 'a': 0, 'alpha': 90, 'type': 'revolute'}\n",
      "{'theta': theta_2, 'd': 0, 'a': 0.093, 'alpha': 0, 'type': 'revolute'}\n",
      "{'theta': theta_3, 'd': 0, 'a': 0.093, 'alpha': 0, 'type': 'revolute'}\n",
      "{'theta': theta_4, 'd': 0, 'a': 0.05, 'alpha': 0, 'type': 'revolute'}\n",
      "{'x': -0.015, 'y': 0.045, 'z': 0, 'type': 'transformation'}\n"
     ]
    }
   ],
   "source": [
    "for i, a in dh_conv.items():\n",
    "    print(a)"
   ]
  },
  {
   "cell_type": "code",
   "execution_count": 7,
   "metadata": {},
   "outputs": [],
   "source": [
    "A = {\n",
    "    '01' : A_dh(**dh_conv[1]),\n",
    "    '12' : A_dh(**dh_conv[2]),\n",
    "    '23' : A_dh(**dh_conv[3]),\n",
    "    '34' : A_dh(**dh_conv[4]),\n",
    "    '45' : A_trans(**dh_conv[5])\n",
    "}"
   ]
  },
  {
   "cell_type": "code",
   "execution_count": 8,
   "metadata": {},
   "outputs": [],
   "source": [
    "T = {\n",
    "    '00' : sympy.eye(4),\n",
    "    '01' : sympy.simplify(A['01']),\n",
    "    '02' : sympy.simplify(A['01']*A['12']),\n",
    "    '03' : sympy.simplify(A['01']*A['12']*A['23']),\n",
    "    '04' : sympy.simplify(A['01']*A['12']*A['23']*A['34']),\n",
    "    '05' : sympy.simplify(A['45']*A['01']*A['12']*A['23']*A['34'])\n",
    "}"
   ]
  },
  {
   "cell_type": "code",
   "execution_count": 12,
   "metadata": {},
   "outputs": [],
   "source": [
    "def jacobian_inner(t, joint, o_n):\n",
    "    joint_type = joint['type']\n",
    "    z = t[:3,2]\n",
    "    o = t[:3,3]\n",
    "    \n",
    "    if joint_type == 'revolute':\n",
    "        j = z.cross(o_n - o)\n",
    "        return Matrix.vstack(j, z)\n",
    "    else: # prismatic\n",
    "        return Matrix.vstack(z, Matrix.zeros(3,1))\n",
    "    \n",
    "\n",
    "def jacobian(T_, joints):\n",
    "    o_n = T_[-1][:3,3]\n",
    "    J = Matrix.zeros(6, len(joints))\n",
    "    for idx, joint in enumerate(joints):\n",
    "        t = T_[idx]\n",
    "        j = jacobian_inner(t, joint, o_n)\n",
    "        \n",
    "        J[:, idx] = j\n",
    "        \n",
    "    return sympy.simplify(J)\n",
    "\n",
    "# def jacobian_all(T_, dh_conv_):\n",
    "#     J = {}\n",
    "#     for idx, joint in enumerate(dh_conv_):\n",
    "#         t = list(T_.values())[:idx+1]\n",
    "#         joints = list(dh_conv_.values())[:idx+1]\n",
    "#         J[idx] = jacobian(t, joints)\n",
    "#     return J"
   ]
  },
  {
   "cell_type": "code",
   "execution_count": 13,
   "metadata": {},
   "outputs": [
    {
     "data": {
      "text/latex": [
       "$\\displaystyle \\left[\\begin{matrix}- \\left(0.093 \\cos{\\left(\\theta_{2} \\right)} + 0.093 \\cos{\\left(\\theta_{2} + \\theta_{3} \\right)} + 0.05 \\cos{\\left(\\theta_{2} + \\theta_{3} + \\theta_{4} \\right)}\\right) \\sin{\\left(\\theta_{1} \\right)} & \\left(- 0.093 \\sin{\\left(\\theta_{2} \\right)} - 0.093 \\sin{\\left(\\theta_{2} + \\theta_{3} \\right)} - 0.05 \\sin{\\left(\\theta_{2} + \\theta_{3} + \\theta_{4} \\right)} + 6.93889390390723 \\cdot 10^{-18}\\right) \\cos{\\left(\\theta_{1} \\right)} & \\left(- 0.093 \\sin{\\left(\\theta_{2} + \\theta_{3} \\right)} - 0.05 \\sin{\\left(\\theta_{2} + \\theta_{3} + \\theta_{4} \\right)} + 6.93889390390723 \\cdot 10^{-18}\\right) \\cos{\\left(\\theta_{1} \\right)} & - 0.05 \\sin{\\left(\\theta_{2} + \\theta_{3} + \\theta_{4} \\right)} \\cos{\\left(\\theta_{1} \\right)}\\\\\\left(0.093 \\cos{\\left(\\theta_{2} \\right)} + 0.093 \\cos{\\left(\\theta_{2} + \\theta_{3} \\right)} + 0.05 \\cos{\\left(\\theta_{2} + \\theta_{3} + \\theta_{4} \\right)}\\right) \\cos{\\left(\\theta_{1} \\right)} & \\left(- 0.093 \\sin{\\left(\\theta_{2} \\right)} - 0.093 \\sin{\\left(\\theta_{2} + \\theta_{3} \\right)} - 0.05 \\sin{\\left(\\theta_{2} + \\theta_{3} + \\theta_{4} \\right)} + 6.93889390390723 \\cdot 10^{-18}\\right) \\sin{\\left(\\theta_{1} \\right)} & \\left(- 0.093 \\sin{\\left(\\theta_{2} + \\theta_{3} \\right)} - 0.05 \\sin{\\left(\\theta_{2} + \\theta_{3} + \\theta_{4} \\right)} + 6.93889390390723 \\cdot 10^{-18}\\right) \\sin{\\left(\\theta_{1} \\right)} & - 0.05 \\sin{\\left(\\theta_{1} \\right)} \\sin{\\left(\\theta_{2} + \\theta_{3} + \\theta_{4} \\right)}\\\\0 & 0.093 \\cos{\\left(\\theta_{2} \\right)} + 0.093 \\cos{\\left(\\theta_{2} + \\theta_{3} \\right)} + 0.05 \\cos{\\left(\\theta_{2} + \\theta_{3} + \\theta_{4} \\right)} & 0.093 \\cos{\\left(\\theta_{2} + \\theta_{3} \\right)} + 0.05 \\cos{\\left(\\theta_{2} + \\theta_{3} + \\theta_{4} \\right)} & 0.05 \\cos{\\left(\\theta_{2} + \\theta_{3} + \\theta_{4} \\right)}\\\\0 & \\sin{\\left(\\theta_{1} \\right)} & \\sin{\\left(\\theta_{1} \\right)} & \\sin{\\left(\\theta_{1} \\right)}\\\\0 & - \\cos{\\left(\\theta_{1} \\right)} & - \\cos{\\left(\\theta_{1} \\right)} & - \\cos{\\left(\\theta_{1} \\right)}\\\\1 & 0 & 0 & 0\\end{matrix}\\right]$"
      ],
      "text/plain": [
       "Matrix([\n",
       "[-(0.093*cos(theta_2) + 0.093*cos(theta_2 + theta_3) + 0.05*cos(theta_2 + theta_3 + theta_4))*sin(theta_1), (-0.093*sin(theta_2) - 0.093*sin(theta_2 + theta_3) - 0.05*sin(theta_2 + theta_3 + theta_4) + 6.93889390390723e-18)*cos(theta_1), (-0.093*sin(theta_2 + theta_3) - 0.05*sin(theta_2 + theta_3 + theta_4) + 6.93889390390723e-18)*cos(theta_1), -0.05*sin(theta_2 + theta_3 + theta_4)*cos(theta_1)],\n",
       "[ (0.093*cos(theta_2) + 0.093*cos(theta_2 + theta_3) + 0.05*cos(theta_2 + theta_3 + theta_4))*cos(theta_1), (-0.093*sin(theta_2) - 0.093*sin(theta_2 + theta_3) - 0.05*sin(theta_2 + theta_3 + theta_4) + 6.93889390390723e-18)*sin(theta_1), (-0.093*sin(theta_2 + theta_3) - 0.05*sin(theta_2 + theta_3 + theta_4) + 6.93889390390723e-18)*sin(theta_1), -0.05*sin(theta_1)*sin(theta_2 + theta_3 + theta_4)],\n",
       "[                                                                                                        0,                                        0.093*cos(theta_2) + 0.093*cos(theta_2 + theta_3) + 0.05*cos(theta_2 + theta_3 + theta_4),                                        0.093*cos(theta_2 + theta_3) + 0.05*cos(theta_2 + theta_3 + theta_4),               0.05*cos(theta_2 + theta_3 + theta_4)],\n",
       "[                                                                                                        0,                                                                                                                     sin(theta_1),                                                                                                sin(theta_1),                                        sin(theta_1)],\n",
       "[                                                                                                        0,                                                                                                                    -cos(theta_1),                                                                                               -cos(theta_1),                                       -cos(theta_1)],\n",
       "[                                                                                                        1,                                                                                                                                0,                                                                                                           0,                                                   0]])"
      ]
     },
     "execution_count": 13,
     "metadata": {},
     "output_type": "execute_result"
    }
   ],
   "source": [
    "J_end = jacobian(list(T.values())[:5], list(dh_conv.values())[:4])\n",
    "J_end\n"
   ]
  },
  {
   "cell_type": "code",
   "execution_count": 14,
   "metadata": {},
   "outputs": [],
   "source": [
    "def point_on_circle(phi: float, radius: float = 32/1000):\n",
    "    centre = Array([150/1000, 0, 120/1000])\n",
    "    return centre + radius * Array([0, cos(phi), sin(phi)])"
   ]
  },
  {
   "cell_type": "code",
   "execution_count": 15,
   "metadata": {},
   "outputs": [
    {
     "data": {
      "image/png": "[encoded data removed]",
      "text/plain": [
       "<Figure size 432x288 with 1 Axes>"
      ]
     },
     "metadata": {
      "needs_background": "light"
     },
     "output_type": "display_data"
    }
   ],
   "source": [
    "points = [point_on_circle(phi) for phi in np.linspace(0, 2*np.pi, 36)]\n",
    "cols = ['red'] * 4 + ['blue'] * 32\n",
    "plt.scatter([p[1] for p in points], [p[2] for p in points], c=cols)\n",
    "plt.axis('equal')\n",
    "plt.show()"
   ]
  },
  {
   "cell_type": "code",
   "execution_count": 16,
   "metadata": {},
   "outputs": [
    {
     "data": {
      "text/plain": [
       "(-1.36061374013273 + pi,\n",
       " -0.239730216951784,\n",
       " -1.47169003299079 + pi,\n",
       " 1.71142024994257 - pi)"
      ]
     },
     "execution_count": 16,
     "metadata": {},
     "output_type": "execute_result"
    }
   ],
   "source": [
    "def inv_kinematics(x,y,z,phi, dh_conv):\n",
    "    \"\"\"\n",
    "    Hardcoded inverse kinematics for the robot arm\n",
    "    \"\"\"\n",
    "    \n",
    "    theta1 = atan2(y, x)\n",
    "    \n",
    "    a2 = dh_conv[2]['a']\n",
    "    a3 = dh_conv[3]['a']\n",
    "    a4 = dh_conv[4]['a']\n",
    "    \n",
    "    d1 = dh_conv[1]['d']\n",
    "    \n",
    "    r = sqrt(x**2 + y**2)\n",
    "    r2 = cos(phi)*a4\n",
    "    \n",
    "    #Given r = r1 + r2\n",
    "    r1 = r - r2\n",
    "    \n",
    "    z1 = d1\n",
    "    z3 = sin(phi)*a4\n",
    "    \n",
    "    #Given z = z1 + z2 + z3\n",
    "    z2 = z - z1 - z3\n",
    "    \n",
    "    c23 = sqrt(z2**2 + r1**2)\n",
    "    \n",
    "    c3 = ((c23**2) - (a2**2) - (a3**2)) / (2*a2*a3)\n",
    "    \n",
    "    \n",
    "    D = (c23**2 - a2**2 - a3**2)/(-2*a2*a3)\n",
    "    theta3 = -(atan2(sqrt(1-D**2), D) - pi)\n",
    "\n",
    "    \n",
    "    theta2 = atan2(z2, r1) - atan2(a3*sin(theta3), a2 + a3*cos(theta3))\n",
    "    \n",
    "    theta4 = phi - theta2 - theta3\n",
    "    \n",
    "    \n",
    "    return theta1, theta2, theta3, theta4\n",
    "\n",
    "inv_kinematics(-0.032,0.15, 0.12, 0, dh_conv)\n"
   ]
  },
  {
   "cell_type": "code",
   "execution_count": 17,
   "metadata": {},
   "outputs": [],
   "source": [
    "def jacobian_point(J, _theta_1, _theta_2, _theta_3, _theta_4):\n",
    "    \"\"\"Computes jacobian given joint angles\"\"\"\n",
    "    res = sympy.lambdify((theta_1, theta_2, theta_3, theta_4), J, 'sympy')\n",
    "    return res(_theta_1, _theta_2, _theta_3, _theta_4)\n",
    "\n",
    "def jacobian_circle_angle(J, phi, end_angle, dh_conv):\n",
    "    \"\"\"Computes jacobian given an angle of a circle\"\"\"\n",
    "    \n",
    "    point_on_circle(phi) #Compute coordinates of point on circle\n",
    "    \n",
    "    #Compute angles of joints\n",
    "    _theta_1, _theta_2, _theta_3, _theta_4 = inv_kinematics(*point_on_circle(phi), end_angle, dh_conv)\n",
    "    \n",
    "\n",
    "    #Compute jacobian\n",
    "    return jacobian_point(J, _theta_1, _theta_2, _theta_3, _theta_4)\n"
   ]
  },
  {
   "cell_type": "code",
   "execution_count": null,
   "metadata": {},
   "outputs": [
    {
     "name": "stdout",
     "output_type": "stream",
     "text": [
      "[[  32.   -68.5  -90.1    0. ]\n",
      " [ 150.    14.6   19.2    0. ]\n",
      " [   0.   153.4   63.    50. ]\n",
      " [   0.  -208.6 -208.6 -208.6]\n",
      " [   0.  -978.  -978.  -978. ]\n",
      " [1000.     0.     0.     0. ]]\n"
     ]
    }
   ],
   "source": [
    "J_end = jacobian(list(T.values())[:5], list(dh_conv.values())[:4])\n",
    "\n",
    "# r1 = jacobian_circle_angle(J_end,        0, 0, dh_conv)\n",
    "# r2 = jacobian_circle_angle(J_end,     pi/2, 0, dh_conv)\n",
    "r3 = jacobian_circle_angle(J_end,       pi, 0, dh_conv)\n",
    "# r4 = jacobian_circle_angle(J_end, 3*pi / 2, 0, dh_conv)\n",
    "\n",
    "# print(np.array(r1))\n",
    "# print(np.array(r2))\n",
    "# print((r3))\n",
    "# print(np.array(r4))"
   ]
  },
  {
   "cell_type": "code",
   "execution_count": null,
   "metadata": {},
   "outputs": [
    {
     "name": "stdout",
     "output_type": "stream",
     "text": [
      "[[ -77.   -68.5  -90.1    0.   208.6]\n",
      " [ 135.   -14.6  -19.2    0.  -978. ]\n",
      " [   0.   148.1   57.8   44.7    0. ]\n",
      " [   0.   208.6  208.6  208.6    0. ]\n",
      " [   0.  -978.  -978.  -978.     0. ]\n",
      " [1000.     0.     0.     0.     0. ]]\n",
      "[[  -45.   -102.    -92.7     0.      0. ]\n",
      " [  135.      0.      0.      0.  -1000. ]\n",
      " [    0.    135.     42.5    35.      0. ]\n",
      " [    0.      0.      0.      0.      0. ]\n",
      " [    0.  -1000.  -1000.  -1000.      0. ]\n",
      " [ 1000.      0.      0.      0.      0. ]]\n",
      "[[ -13.   -68.5  -90.1    0.  -208.6]\n",
      " [ 135.    14.6   19.2    0.  -978. ]\n",
      " [   0.   129.3   39.    25.9    0. ]\n",
      " [   0.  -208.6 -208.6 -208.6    0. ]\n",
      " [   0.  -978.  -978.  -978.     0. ]\n",
      " [1000.     0.     0.     0.     0. ]]\n",
      "[[  -45.    -38.    -90.1     0.      0. ]\n",
      " [  135.      0.      0.      0.  -1000. ]\n",
      " [    0.    135.     58.     35.      0. ]\n",
      " [    0.      0.      0.      0.      0. ]\n",
      " [    0.  -1000.  -1000.  -1000.      0. ]\n",
      " [ 1000.      0.      0.      0.      0. ]]\n"
     ]
    }
   ],
   "source": [
    "J_cam = jacobian(list(T.values())[:6], list(dh_conv.values())[:5])\n",
    "J_cam\n",
    "\n",
    "ROUNDING_FACTOR = 1\n",
    "\n",
    "r1 = jacobian_circle_angle(J_cam,        0, 0, dh_conv)\n",
    "r2 = jacobian_circle_angle(J_cam,     pi/2, 0, dh_conv)\n",
    "r3 = jacobian_circle_angle(J_cam,       pi, 0, dh_conv)\n",
    "r4 = jacobian_circle_angle(J_cam, 3*pi / 2, 0, dh_conv)\n",
    "\n",
    "print(np.round(np.array(r1).astype(np.float64), ROUNDING_FACTOR))\n",
    "print(np.round(np.array(r2).astype(np.float64), ROUNDING_FACTOR))\n",
    "print(np.round(np.array(r3).astype(np.float64), ROUNDING_FACTOR))\n",
    "print(np.round(np.array(r4).astype(np.float64), ROUNDING_FACTOR))"
   ]
  },
  {
   "cell_type": "markdown",
   "metadata": {},
   "source": [
    "## Problem 5"
   ]
  },
  {
   "cell_type": "code",
   "execution_count": 20,
   "metadata": {},
   "outputs": [],
   "source": [
    "def temporal_rate(R, w) -> np.ndarray:\n",
    "    x_dot = np.array([\n",
    "        [R[2,0] * w[1] - R[1,0] * w[2], R[2,1] * w[1] - R[1,1] * w[2], R[2,2] * w[1] - R[1,2] * w[2]],\n",
    "        [R[0,0] * w[2] - R[2,0] * w[0], R[0,1] * w[2] - R[2,1] * w[0], R[0,2] * w[2] - R[2,2] * w[0]],\n",
    "        [R[1,0] * w[0] - R[0,0] * w[1], R[1,1] * w[0] - R[0,1] * w[1], R[1,2] * w[0] - R[0,2] * w[1]],\n",
    "    ])\n",
    "    return x_dot\n",
    "\n",
    "def joint_velocity(J_end, phi, velocity, end_angle, dh_conv):\n",
    "    M = jacobian_circle_angle(J_end, phi, end_angle, dh_conv)[0:3, :] \n",
    "\n",
    "    N = (M.H * M) ** -1 * M.H\n",
    "    \n",
    "    q = N * velocity\n",
    "    \n",
    "    return q\n",
    "    "
   ]
  },
  {
   "cell_type": "code",
   "execution_count": 21,
   "metadata": {},
   "outputs": [
    {
     "ename": "NameError",
     "evalue": "name 'vel' is not defined",
     "output_type": "error",
     "traceback": [
      "\u001b[1;31m---------------------------------------------------------------------------\u001b[0m",
      "\u001b[1;31mNameError\u001b[0m                                 Traceback (most recent call last)",
      "Input \u001b[1;32mIn [21]\u001b[0m, in \u001b[0;36m<cell line: 1>\u001b[1;34m()\u001b[0m\n\u001b[1;32m----> 1\u001b[0m joint_velocity(J_end, \u001b[38;5;241m0\u001b[39m, \u001b[43mvel\u001b[49m, \u001b[38;5;241m0\u001b[39m, dh_conv)\n",
      "\u001b[1;31mNameError\u001b[0m: name 'vel' is not defined"
     ]
    }
   ],
   "source": [
    "joint_velocity(J_end, 0, vel, 0, dh_conv)"
   ]
  },
  {
   "cell_type": "markdown",
   "metadata": {},
   "source": [
    "## Problem 6"
   ]
  },
  {
   "cell_type": "code",
   "execution_count": null,
   "metadata": {},
   "outputs": [],
   "source": [
    "def interpolation_polynomial(dh_conv, start_angle, end_angle, t_in, t_end, start_vel, end_vel):\n",
    "    \"\"\"Computes polynomial interpolation\"\"\"\n",
    "    point_start = point_on_circle(start_angle)\n",
    "    point_end   = point_on_circle(  end_angle)\n",
    "    q_in        = inv_kinematics(*point_start, 0, dh_conv)\n",
    "    q_end       = inv_kinematics(*point_end,   0, dh_conv)\n",
    "    \n",
    "    A_list = []\n",
    "    points = []\n",
    "    # print(t_in, t_end)\n",
    "    for i in range(4):\n",
    "        b = Matrix([q_in[i], start_vel[i], 0, q_end[i], end_vel[i], 0])\n",
    "        \n",
    "        M = Matrix([\n",
    "            [1,  t_in,   t_in**2,     t_in**3,      t_in**4,      t_in**5],\n",
    "            [0,     1,    2*t_in,   3*t_in**2,    4*t_in**3,    5*t_in**4],\n",
    "            [0,     0,         2,      6*t_in,   12*t_in**2,   20*t_in**3],\n",
    "            [1, t_end,  t_end**2,    t_end**3,     t_end**4,     t_end**5],\n",
    "            [0,     1,   2*t_end,  3*t_end**2,   4*t_end**3,   5*t_end**4],\n",
    "            [0,     0,         2,     6*t_end,  12*t_end**2,  20*t_end**3]\n",
    "        ])\n",
    "\n",
    "        M_inv = M.inv()\n",
    "\n",
    "        A = M_inv * b\n",
    "        \n",
    "        A_list.append(A)\n",
    "        points.append(point_start)\n",
    "        \n",
    "        \n",
    "    return A_list, points"
   ]
  },
  {
   "cell_type": "code",
   "execution_count": null,
   "metadata": {},
   "outputs": [],
   "source": [
    "def calc_segments(dh_conv, J_end, n_points, velocities, total_time = 8):\n",
    "    \"\"\"Computes the joint angles for a given number of points\"\"\"\n",
    "    \n",
    "    segments = []\n",
    "    times    = []\n",
    "    points   = []\n",
    "    angles   = np.linspace(0, 2*np.pi, n_points)\n",
    "\n",
    "    t_start = 0\n",
    "    t_end = total_time / n_points\n",
    "    \n",
    "    _joint_velocity = []\n",
    "    for phi, vel in zip(angles, velocities):\n",
    "        _joint_velocity.append(joint_velocity(J_end, phi, vel, 0, dh_conv))\n",
    "    \n",
    "    for i in range(len(angles) - 1):\n",
    "        start_angle = angles[i]\n",
    "        _start_vel  = _joint_velocity[i]\n",
    "        \n",
    "        end_angle   = angles[i + 1]\n",
    "        _end_vel    = _joint_velocity[i + 1]\n",
    "                \n",
    "        seq, seq_points = interpolation_polynomial(dh_conv, start_angle, end_angle, t_start, t_end, _start_vel, _end_vel)\n",
    "        segments.append(seq)\n",
    "        \n",
    "        points.extend(seq_points)\n",
    "        times.append(t_end)    \n",
    "        \n",
    "    return segments, np.array(points), times"
   ]
  },
  {
   "cell_type": "code",
   "execution_count": null,
   "metadata": {},
   "outputs": [],
   "source": [
    "def angular_velocity(phi, velocity):\n",
    "    ang_vel = Matrix([0, cos(phi+pi/2) * velocity, sin(phi+pi/2) * velocity])\n",
    "    ang_vel_size = ang_vel[0]**2 + ang_vel[1]**2 + ang_vel[2]**2\n",
    "    \n",
    "    assert round(float(ang_vel_size),8) == round(float(velocity**2),8)\n",
    "    return ang_vel"
   ]
  },
  {
   "cell_type": "code",
   "execution_count": null,
   "metadata": {},
   "outputs": [],
   "source": [
    "N_POINTS = 5\n",
    "\n",
    "velocities = [Matrix([0,0,0])] + [angular_velocity(phi, 27/1000) for phi in np.linspace(0, float(2*pi), N_POINTS)[1:-1]] + [Matrix([0,0,0])]\n",
    "_segments, _points, times = calc_segments(dh_conv, J_end, N_POINTS, velocities)\n"
   ]
  },
  {
   "cell_type": "code",
   "execution_count": null,
   "metadata": {},
   "outputs": [],
   "source": [
    "for v in velocities:\n",
    "    print(v)"
   ]
  },
  {
   "cell_type": "code",
   "execution_count": null,
   "metadata": {},
   "outputs": [],
   "source": [
    "points = []\n",
    "transform_matrix = sympy.lambdify((theta_1, theta_2, theta_3, theta_4), T['04'], 'sympy')\n",
    "for index, segment_i in enumerate(_segments):\n",
    "    times_i = np.linspace(0, times[index], 10)\n",
    "    for t_i in times_i:\n",
    "        T_i = Matrix([1, t_i, t_i**2, t_i**3, t_i**4, t_i**5]).T\n",
    "\n",
    "        Q_a = Matrix([ T_i @ seq_i for seq_i in segment_i])\n",
    "\n",
    "        _theta_1, _theta_2, _theta_3, _theta_4 = Q_a\n",
    "        \n",
    "        transform_matrix(_theta_1, _theta_2, _theta_3, _theta_4)\n",
    "\n",
    "        origin = np.array([0, 0, 0, 1])\n",
    "\n",
    "        joint_position = transform_matrix(_theta_1, _theta_2, _theta_3, _theta_4) @ origin\n",
    "\n",
    "        points.append(joint_position[:3])\n",
    "        # print(_theta_1, _theta_2, _theta_3, _theta_4)\n",
    "    \n",
    "points = np.array(points).astype(np.float64)\n",
    "\n",
    "x,  y,  z  =  points[:,0],  points[:,1],  points[:,2]\n",
    "xp, yp, zp = _points[:,0], _points[:,1], _points[:,2]"
   ]
  },
  {
   "cell_type": "code",
   "execution_count": null,
   "metadata": {},
   "outputs": [],
   "source": [
    "fig, axs = plt.subplots(1, 3, subplot_kw={'projection': '3d'}, figsize=(20,5))\n",
    "axs[0].remove()\n",
    "axs[0] = fig.add_subplot(1,3,1)\n",
    "\n",
    "axs[0].scatter(yp,zp)\n",
    "axs[0].plot(y,z)\n",
    "axs[0].set_xlabel('Y')\n",
    "axs[0].set_ylabel('Z')\n",
    "axs[0].axis('equal')\n",
    "\n",
    "# cols = ['red'] + ['green'] * (len(points)-2) + ['blue']\n",
    "axs[1].scatter(xp, yp, zp)\n",
    "# axs[1].scatter(y, z, c = cols)\n",
    "axs[1].plot(x, y, z)\n",
    "axs[1].set_xlabel('X')\n",
    "axs[1].set_ylabel('Y')\n",
    "axs[1].set_zlabel('Z')\n",
    "axs[1].axis('equal')\n",
    "axs[1].view_init(elev=15, azim=90, roll=0)\n",
    "\n",
    "axs[2].scatter(xp, yp, zp)\n",
    "# axs[2].scatter(y, z, c = cols)\n",
    "axs[2].plot(x, y, z)\n",
    "axs[2].set_xlabel('X')\n",
    "axs[2].set_ylabel('Y')\n",
    "axs[2].set_zlabel('Z')\n",
    "axs[2].axis('equal')\n",
    "axs[2].view_init(elev=15, azim=-30, roll=0)\n",
    "plt.tight_layout()\n",
    "plt.show()"
   ]
  },
  {
   "cell_type": "code",
   "execution_count": null,
   "metadata": {},
   "outputs": [],
   "source": [
    "# blocker\n",
    "raise Exception"
   ]
  },
  {
   "cell_type": "code",
   "execution_count": null,
   "metadata": {},
   "outputs": [],
   "source": [
    "points = []\n",
    "\n",
    "transform_matrix = sympy.lambdify((theta_1, theta_2, theta_3, theta_4), T['04'], 'sympy')\n",
    "for phi in np.linspace(0, 2*np.pi, 36):\n",
    "    _theta_1, _theta_2, _theta_3, _theta_4 = inv_kinematics(*point_on_circle(phi), 0, dh_conv)\n",
    "\n",
    "    transform_matrix(_theta_1, _theta_2, _theta_3, _theta_4)\n",
    "\n",
    "    origin = np.array([0, 0, 0, 1])\n",
    "\n",
    "    joint_position = transform_matrix(_theta_1, _theta_2, _theta_3, _theta_4) @ origin\n",
    "\n",
    "    points.append(joint_position[:3])\n",
    "    \n",
    "points = np.array(points).astype(np.float64)"
   ]
  },
  {
   "cell_type": "code",
   "execution_count": null,
   "metadata": {},
   "outputs": [],
   "source": [
    "x, y, z = points[:, 0], points[:, 1], points[:, 2]"
   ]
  },
  {
   "cell_type": "code",
   "execution_count": null,
   "metadata": {},
   "outputs": [],
   "source": [
    "fig, axs = plt.subplots(1, 2, subplot_kw={'projection': '3d'})\n",
    "# cols = ['red'] + ['green'] * (len(points)-2) + ['blue']\n",
    "axs[0].scatter(xp, yp, zp)\n",
    "# axs[0].scatter(y, z, c = cols)\n",
    "axs[0].plot(x, y, z)\n",
    "axs[0].set_xlabel('X')\n",
    "axs[0].set_ylabel('Y')\n",
    "axs[0].set_zlabel('Z')\n",
    "axs[0].axis('equal')\n",
    "axs[0].view_init(elev=15, azim=20, roll=0)\n",
    "axs[1].scatter(xp, yp, zp)\n",
    "# axs[0].scatter(y, z, c = cols)\n",
    "axs[1].plot(x, y, z)\n",
    "axs[1].set_xlabel('X')\n",
    "axs[1].set_ylabel('Y')\n",
    "axs[1].set_zlabel('Z')\n",
    "axs[1].axis('equal')\n",
    "axs[1].view_init(elev=15, azim=90, roll=0)\n",
    "plt.show()"
   ]
  },
  {
   "cell_type": "markdown",
   "metadata": {},
   "source": [
    "## Problem 8"
   ]
  },
  {
   "cell_type": "code",
   "execution_count": null,
   "metadata": {},
   "outputs": [],
   "source": [
    "angles = np.linspace(0, 2*np.pi, 36)\n",
    "conditions = [np.linalg.cond(np.array(jacobian_circle_angle(J_cam, phi, 0, dh_conv)).astype(np.float64)) for phi in angles]"
   ]
  },
  {
   "cell_type": "code",
   "execution_count": null,
   "metadata": {},
   "outputs": [],
   "source": [
    "max(conditions)"
   ]
  }
 ],
 "metadata": {
  "kernelspec": {
   "display_name": "Python 3",
   "language": "python",
   "name": "python3"
  },
  "language_info": {
   "codemirror_mode": {
    "name": "ipython",
    "version": 3
   },
   "file_extension": ".py",
   "mimetype": "text/x-python",
   "name": "python",
   "nbconvert_exporter": "python",
   "pygments_lexer": "ipython3",
   "version": "3.10.2"
  }
 },
 "nbformat": 4,
 "nbformat_minor": 2
}
