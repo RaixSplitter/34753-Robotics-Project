{
 "cells": [
  {
   "cell_type": "markdown",
   "metadata": {},
   "source": [
    "made on 5/nov - not 100% tested, but seems pretty gooood\n"
   ]
  },
  {
   "cell_type": "code",
   "execution_count": 149,
   "metadata": {},
   "outputs": [],
   "source": [
    "from math import cos, sin, atan2, acos, sqrt, pi\n",
    "\n",
    "import numpy as np\n",
    "import matplotlib.pyplot as plt\n",
    "np.set_printoptions(suppress=True)"
   ]
  },
  {
   "cell_type": "code",
   "execution_count": 77,
   "metadata": {},
   "outputs": [],
   "source": [
    "# def inv_kinematics(x,y,z,phi):\n",
    "#     \"\"\" \"\"\"\n",
    "#     L1,L2,L3,L4 = 50, 93, 93, 50 # mm\n",
    "#     r = sqrt(x*x + y*y)\n",
    "#     s = z - L1 - L4*sin(phi)\n",
    "#     theta1 = atan2(y,x)\n",
    "#     theta3 = acos((r*r + s*s - L2*L2 - L3*L3)/(2*L2*L3))\n",
    "#     print(r*r - s*s)\n",
    "#     theta2 = atan2(r, s) - atan2(L3*sin(theta3), L2 + L3*cos(theta3))\n",
    "#     theta4 = phi - theta2 - theta3\n",
    "    \n",
    "#     return theta1, theta2, theta3, theta4"
   ]
  },
  {
   "cell_type": "code",
   "execution_count": 85,
   "metadata": {},
   "outputs": [],
   "source": [
    "def inv_kinematics(x,y,z,phi):\n",
    "    \"\"\" \"\"\"\n",
    "    L1,L2,L3,L4 = 50, 93, 93, 50 # mm\n",
    "\n",
    "    theta1 = atan2(y, x)\n",
    "\n",
    "    A = x - L4*cos(theta1)*cos(phi)\n",
    "    B = y - L4*sin(theta1)*cos(phi)\n",
    "    C = z - L1 - L4*sin(phi)\n",
    "\n",
    "    theta3 = acos((A*A + B*B + C*C - L2*L2 - L3*L3)/(2*L2*L3))\n",
    "    a = L3*sin(theta3)\n",
    "    b = L2 + L3*cos(theta3)\n",
    "\n",
    "    c = z - L1 - L4*sin(phi)\n",
    "    r = sqrt(a*a + b*b)\n",
    "\n",
    "    theta2 = atan2(c, sqrt(r*r - c*c)) - atan2(a,b)\n",
    "\n",
    "    theta4 = phi - theta2 - theta3\n",
    "    \n",
    "    return theta1, theta2, theta3, theta4"
   ]
  },
  {
   "cell_type": "code",
   "execution_count": 86,
   "metadata": {},
   "outputs": [],
   "source": [
    "from math import cos, sin\n",
    "\n",
    "def forward_kinematics(t1, t2, t3, t4):\n",
    "    \"\"\" straight out of chatgpt \"\"\"\n",
    "    # Row 1\n",
    "    r11 = (cos(t4 + t3 + t1 + t2) + cos(-t4 - t3 + t1 - t2)) / 2\n",
    "    r12 = (-sin(t4 + t3 + t1 + t2) + sin(-t4 - t3 + t1 - t2)) / 2\n",
    "    r13 = sin(t1)\n",
    "    r14 = (25 * cos(t4 + t3 + t1 + t2) + 25 * cos(-t4 - t3 + t1 - t2) +\n",
    "           (93 * cos(-t3 + t1 - t2) + 93 * cos(t3 + t1 + t2) + \n",
    "           93 * cos(t1 - t2) + 93 * cos(t1 + t2)) / 2)\n",
    "\n",
    "    # Row 2\n",
    "    r21 = (sin(-t4 - t3 + t1 - t2) + sin(t4 + t3 + t1 + t2)) / 2\n",
    "    r22 = (-cos(-t4 - t3 + t1 - t2) + cos(t4 + t3 + t1 + t2)) / 2\n",
    "    r23 = -cos(t1)\n",
    "    r24 = (25 * sin(-t4 - t3 + t1 - t2) + 25 * sin(t4 + t3 + t1 + t2) +\n",
    "           (93 * sin(t3 + t1 + t2) + 93 * sin(-t3 + t1 - t2) + \n",
    "           93 * sin(t1 + t2) + 93 * sin(t1 - t2)) / 2)\n",
    "\n",
    "    # Row 3\n",
    "    r31 = sin(t2 + t3 + t4)\n",
    "    r32 = cos(t2 + t3 + t4)\n",
    "    r33 = 0\n",
    "    r34 = 50 + 50 * sin(t2 + t3 + t4) + 93 * sin(t2 + t3) + 93 * sin(t2)\n",
    "\n",
    "    # Row 4 (last row in homogeneous transformation matrices)\n",
    "    r41 = 0\n",
    "    r42 = 0\n",
    "    r43 = 0\n",
    "    r44 = 1\n",
    "\n",
    "    # Assembling the 4x4 matrix as a nested list\n",
    "    transformation_matrix = [\n",
    "        [r11, r12, r13, r14],\n",
    "        [r21, r22, r23, r24],\n",
    "        [r31, r32, r33, r34],\n",
    "        [r41, r42, r43, r44]\n",
    "    ]\n",
    "\n",
    "    return np.array(transformation_matrix)\n"
   ]
  },
  {
   "cell_type": "code",
   "execution_count": 116,
   "metadata": {},
   "outputs": [
    {
     "data": {
      "text/plain": [
       "array([[  0.,  -1.,   0.,   0.],\n",
       "       [  0.,   0.,  -1.,   0.],\n",
       "       [  1.,   0.,   0., 286.],\n",
       "       [  0.,   0.,   0.,   1.]])"
      ]
     },
     "execution_count": 116,
     "metadata": {},
     "output_type": "execute_result"
    }
   ],
   "source": [
    "forward_kinematics(*inv_kinematics(0,0,286,pi/2))"
   ]
  },
  {
   "cell_type": "code",
   "execution_count": 129,
   "metadata": {},
   "outputs": [
    {
     "data": {
      "text/plain": [
       "(0.0, 1.5707963267948966, 0.0, 0.0)"
      ]
     },
     "execution_count": 129,
     "metadata": {},
     "output_type": "execute_result"
    }
   ],
   "source": [
    "inv_kinematics(0,0,286,pi/2)"
   ]
  },
  {
   "cell_type": "code",
   "execution_count": 137,
   "metadata": {},
   "outputs": [
    {
     "name": "stdout",
     "output_type": "stream",
     "text": [
      "[[  0.  -1.   0.  50.]\n",
      " [  0.   0.  -1.   0.]\n",
      " [  1.   0.   0. 236.]\n",
      " [  0.   0.   0.   1.]]\n",
      "3.141592653589793\n"
     ]
    }
   ],
   "source": [
    "out = forward_kinematics(*inv_kinematics(50,0,286-50,pi/2))\n",
    "print(out)\n",
    "print(atan2(out[0][2], out[1][2]))"
   ]
  },
  {
   "cell_type": "code",
   "execution_count": 197,
   "metadata": {},
   "outputs": [
    {
     "name": "stdout",
     "output_type": "stream",
     "text": [
      "[[150.          32.         120.        ]\n",
      " [150.          31.5138481  125.55674169]\n",
      " [150.          30.07016387 130.94464459]]\n"
     ]
    },
    {
     "data": {
      "image/png": "[encoded data removed]",
      "text/plain": [
       "<Figure size 432x288 with 1 Axes>"
      ]
     },
     "metadata": {
      "needs_background": "light"
     },
     "output_type": "display_data"
    }
   ],
   "source": [
    "\n",
    "def point_on_circle(phi: float):\n",
    "    poc = np.array([150, 0, 120])\n",
    "    R = 32 # mm\n",
    "    return poc + R * np.array([0, cos(phi), sin(phi)])\n",
    "\n",
    "# around 0 - for testing\n",
    "# def point_on_circle(phi: float):\n",
    "#     poc = np.array([0, 0, 100])\n",
    "#     R = 32 # mm\n",
    "#     return poc + R * np.array([cos(phi), sin(phi),0])\n",
    "\n",
    "ps = [point_on_circle(np.deg2rad(i)) for i in range(0, 360, 10)]\n",
    "ps = np.array(ps)\n",
    "print(ps[:3])\n",
    "plt.scatter(ps[:,1], ps[:,2])\n",
    "plt.gca().set_aspect('equal')\n",
    "\n",
    "plt.show()"
   ]
  },
  {
   "cell_type": "code",
   "execution_count": 202,
   "metadata": {},
   "outputs": [
    {
     "data": {
      "text/plain": [
       "array([150.,  32., 120.])"
      ]
     },
     "execution_count": 202,
     "metadata": {},
     "output_type": "execute_result"
    }
   ],
   "source": [
    "ps[0]"
   ]
  },
  {
   "cell_type": "code",
   "execution_count": 204,
   "metadata": {},
   "outputs": [
    {
     "data": {
      "text/plain": [
       "array([[  0.        ,  -0.97799284,   0.20863847, 150.        ],\n",
       "       [  0.        ,  -0.20863847,  -0.97799284,  32.        ],\n",
       "       [  1.        ,   0.        ,   0.        , 120.        ],\n",
       "       [  0.        ,   0.        ,   0.        ,   1.        ]])"
      ]
     },
     "execution_count": 204,
     "metadata": {},
     "output_type": "execute_result"
    }
   ],
   "source": [
    "ps[0] # array([150.,  32., 120.])\n",
    "forward_kinematics(*inv_kinematics(*ps[0], pi/2))"
   ]
  },
  {
   "cell_type": "code",
   "execution_count": 207,
   "metadata": {},
   "outputs": [
    {
     "data": {
      "text/plain": [
       "array([[ 0.21018259, -0.45918279,  1.17770037,  0.85227874],\n",
       "       [ 0.20708061, -0.41665629,  1.16374914,  0.82370348],\n",
       "       [ 0.19784529, -0.37549019,  1.15014123,  0.79614529],\n",
       "       [ 0.18269205, -0.33688369,  1.1372975 ,  0.77038252],\n",
       "       [ 0.16199085, -0.30197207,  1.1256229 ,  0.7471455 ],\n",
       "       [ 0.13627807, -0.27179879,  1.11549268,  0.72710243],\n",
       "       [ 0.10626486, -0.24728422,  1.10723844,  0.7108421 ],\n",
       "       [ 0.07283523, -0.22919242,  1.10113479,  0.69885395],\n",
       "       [ 0.03702801, -0.21809834,  1.09738747,  0.6915072 ],\n",
       "       [ 0.        , -0.21435981,  1.09612396,  0.68903217],\n",
       "       [-0.03702801, -0.21809834,  1.09738747,  0.6915072 ],\n",
       "       [-0.07283523, -0.22919242,  1.10113479,  0.69885395],\n",
       "       [-0.10626486, -0.24728422,  1.10723844,  0.7108421 ],\n",
       "       [-0.13627807, -0.27179879,  1.11549268,  0.72710243],\n",
       "       [-0.16199085, -0.30197207,  1.1256229 ,  0.7471455 ],\n",
       "       [-0.18269205, -0.33688369,  1.1372975 ,  0.77038252],\n",
       "       [-0.19784529, -0.37549019,  1.15014123,  0.79614529],\n",
       "       [-0.20708061, -0.41665629,  1.16374914,  0.82370348],\n",
       "       [-0.21018259, -0.45918279,  1.17770037,  0.85227874],\n",
       "       [-0.20708061, -0.50183189,  1.19157135,  0.88105687],\n",
       "       [-0.19784529, -0.54335161,  1.20494801,  0.90919993],\n",
       "       [-0.18269205, -0.5825016 ,  1.21743696,  0.93586097],\n",
       "       [-0.16199085, -0.61808277,  1.22867555,  0.96020354],\n",
       "       [-0.13627807, -0.64897208,  1.2383408 ,  0.98142761],\n",
       "       [-0.10626486, -0.67416283,  1.2461572 ,  0.99880196],\n",
       "       [-0.07283523, -0.69280827,  1.25190325,  1.01170134],\n",
       "       [-0.03702801, -0.70426488,  1.25541685,  1.01964436],\n",
       "       [-0.        , -0.70812955,  1.25659913,  1.02232675],\n",
       "       [ 0.03702801, -0.70426488,  1.25541685,  1.01964436],\n",
       "       [ 0.07283523, -0.69280827,  1.25190325,  1.01170134],\n",
       "       [ 0.10626486, -0.67416283,  1.2461572 ,  0.99880196],\n",
       "       [ 0.13627807, -0.64897208,  1.2383408 ,  0.98142761],\n",
       "       [ 0.16199085, -0.61808277,  1.22867555,  0.96020354],\n",
       "       [ 0.18269205, -0.5825016 ,  1.21743696,  0.93586097],\n",
       "       [ 0.19784529, -0.54335161,  1.20494801,  0.90919993],\n",
       "       [ 0.20708061, -0.50183189,  1.19157135,  0.88105687]])"
      ]
     },
     "execution_count": 207,
     "metadata": {},
     "output_type": "execute_result"
    }
   ],
   "source": [
    "angles = [inv_kinematics(*p, pi/2) for p in ps]\n",
    "np.array(angles)"
   ]
  },
  {
   "cell_type": "code",
   "execution_count": null,
   "metadata": {},
   "outputs": [],
   "source": []
  },
  {
   "cell_type": "code",
   "execution_count": null,
   "metadata": {},
   "outputs": [],
   "source": []
  },
  {
   "cell_type": "code",
   "execution_count": null,
   "metadata": {},
   "outputs": [],
   "source": []
  },
  {
   "cell_type": "code",
   "execution_count": null,
   "metadata": {},
   "outputs": [],
   "source": []
  }
 ],
 "metadata": {
  "kernelspec": {
   "display_name": "base",
   "language": "python",
   "name": "python3"
  },
  "language_info": {
   "codemirror_mode": {
    "name": "ipython",
    "version": 3
   },
   "file_extension": ".py",
   "mimetype": "text/x-python",
   "name": "python",
   "nbconvert_exporter": "python",
   "pygments_lexer": "ipython3",
   "version": "3.9.7"
  }
 },
 "nbformat": 4,
 "nbformat_minor": 2
}
