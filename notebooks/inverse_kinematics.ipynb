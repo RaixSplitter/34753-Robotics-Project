{
 "cells": [
  {
   "cell_type": "markdown",
   "metadata": {},
   "source": [
    "made on 5/nov - not 100% tested, but seems pretty gooood\n"
   ]
  },
  {
   "cell_type": "code",
   "execution_count": 4,
   "metadata": {},
   "outputs": [],
   "source": [
    "from math import cos, sin, atan2, acos, sqrt, pi\n",
    "\n",
    "import cv2\n",
    "\n",
    "import numpy as np\n",
    "import matplotlib.pyplot as plt\n",
    "\n",
    "np.set_printoptions(suppress=True)"
   ]
  },
  {
   "cell_type": "code",
   "execution_count": 5,
   "metadata": {},
   "outputs": [],
   "source": [
    "# def inv_kinematics(x,y,z,phi):\n",
    "#     \"\"\" \"\"\"\n",
    "#     L1,L2,L3,L4 = 50, 93, 93, 50 # mm\n",
    "#     r = sqrt(x*x + y*y)\n",
    "#     s = z - L1 - L4*sin(phi)\n",
    "#     theta1 = atan2(y,x)\n",
    "#     theta3 = acos((r*r + s*s - L2*L2 - L3*L3)/(2*L2*L3))\n",
    "#     print(r*r - s*s)\n",
    "#     theta2 = atan2(r, s) - atan2(L3*sin(theta3), L2 + L3*cos(theta3))\n",
    "#     theta4 = phi - theta2 - theta3\n",
    "    \n",
    "#     return theta1, theta2, theta3, theta4"
   ]
  },
  {
   "cell_type": "code",
   "execution_count": 10,
   "metadata": {},
   "outputs": [],
   "source": [
    "# def inv_kinematics(x,y,z,phi):\n",
    "#     \"\"\" \"\"\"\n",
    "#     L1,L2,L3,L4 = 50, 93, 93, 50 # mm\n",
    "\n",
    "#     theta1 = atan2(y, x)\n",
    "\n",
    "#     A = x - L4*cos(theta1)*cos(phi)\n",
    "#     B = y - L4*sin(theta1)*cos(phi)\n",
    "#     C = z - L1 - L4*sin(phi)\n",
    "\n",
    "#     theta3 = acos((A*A + B*B + C*C - L2*L2 - L3*L3)/(2*L2*L3))\n",
    "#     a = L3*sin(theta3)\n",
    "#     b = L2 + L3*cos(theta3)\n",
    "\n",
    "#     c = z - L1 - L4*sin(phi)\n",
    "#     r = sqrt(a*a + b*b)\n",
    "\n",
    "#     theta2 = atan2(c, sqrt(r*r - c*c)) - atan2(a,b)\n",
    "\n",
    "#     theta4 = phi - theta2 - theta3\n",
    "    \n",
    "    # return theta1, theta2, theta3, theta4\n",
    "\n",
    "\n",
    "def inv_kinematics(x,y,z,phi):\n",
    "    \"\"\" \"\"\"\n",
    "    a1,a2,a3,a4 = 50, 93, 93, 50 # mm\n",
    "\n",
    "    theta1 = atan2(y, x)\n",
    "\n",
    "    r = sqrt(x*x + y*y)\n",
    "    r2 = a4 * cos(phi)\n",
    "    r1 = r - r2\n",
    "\n",
    "    d1 = a1\n",
    "    d3 = a4*sin(phi)\n",
    "    d2 = z - d1 - d3\n",
    "\n",
    "    C23 = sqrt(r1*r1 + d2*d2)\n",
    "\n",
    "    # Elbow down\n",
    "    # theta3 = -acos((a2*a2 + a3*a3 - C23*C23) / (2*a2*a3)) + pi\n",
    "\n",
    "    # Elbow up - not minus in front of sqrt()\n",
    "    D = (C23*C23 - a2*a2 - a3*a3) / (-2*a2*a3)\n",
    "    theta3 = -(atan2(-sqrt(1 - D*D), D) - pi)\n",
    "\n",
    "    theta2 = atan2(d2, r1) - atan2(a3*sin(theta3), a2+a3*cos(theta3))\n",
    "    theta4 = phi - theta2 - theta3\n",
    "    \n",
    "    return theta1, theta2, theta3, theta4"
   ]
  },
  {
   "cell_type": "code",
   "execution_count": 11,
   "metadata": {},
   "outputs": [],
   "source": [
    "def forward_kinematics1(t1, t2=None, t3=None, t4=None):\n",
    "    return np.array([\n",
    "        [np.cos(t1), 0, np.sin(t1), 0],\n",
    "        [np.sin(t1), 0, -np.cos(t1), 0],\n",
    "        [0, 1, 0, 50],\n",
    "        [0, 0, 0, 1]\n",
    "    ])\n",
    "\n",
    "def forward_kinematics2(t1, t2, t3=None, t4=None):\n",
    "    return np.array([\n",
    "        [\n",
    "            (np.cos(t1 - t2) + np.cos(t1 + t2)) / 2,\n",
    "            (-np.sin(t1 + t2) + np.sin(t1 - t2)) / 2,\n",
    "            np.sin(t1),\n",
    "            (93 * np.cos(t1 - t2) + 93 * np.cos(t1 + t2)) / 2\n",
    "        ],\n",
    "        [\n",
    "            (np.sin(t1 + t2) + np.sin(t1 - t2)) / 2,\n",
    "            (-np.cos(t1 - t2) + np.cos(t1 + t2)) / 2,\n",
    "            -np.cos(t1),\n",
    "            (93 * np.sin(t1 + t2) + 93 * np.sin(t1 - t2)) / 2\n",
    "        ],\n",
    "        [\n",
    "            np.sin(t2),\n",
    "            np.cos(t2),\n",
    "            0,\n",
    "            50 + 93 * np.sin(t2)\n",
    "        ],\n",
    "        [0, 0, 0, 1]\n",
    "    ])\n",
    "\n",
    "def forward_kinematics3(t1, t2, t3, t4=None):\n",
    "    return np.array([\n",
    "        [\n",
    "            (np.cos(-t3 + t1 - t2) + np.cos(t3 + t1 + t2)) / 2,\n",
    "            (np.sin(-t3 + t1 - t2) - np.sin(t3 + t1 + t2)) / 2,\n",
    "            np.sin(t1),\n",
    "            (93 * np.cos(-t3 + t1 - t2) + 93 * np.cos(t3 + t1 + t2)) / 2 +\n",
    "            (93 * np.cos(t1 - t2) + 93 * np.cos(t1 + t2)) / 2\n",
    "        ],\n",
    "        [\n",
    "            (np.sin(t3 + t1 + t2) + np.sin(-t3 + t1 - t2)) / 2,\n",
    "            (np.cos(t3 + t1 + t2) - np.cos(-t3 + t1 - t2)) / 2,\n",
    "            -np.cos(t1),\n",
    "            (93 * np.sin(t3 + t1 + t2) + 93 * np.sin(-t3 + t1 - t2)) / 2 +\n",
    "            (93 * np.sin(t1 + t2) + 93 * np.sin(t1 - t2)) / 2\n",
    "        ],\n",
    "        [\n",
    "            np.sin(t2 + t3),\n",
    "            np.cos(t2 + t3),\n",
    "            0,\n",
    "            50 + 93 * np.sin(t2 + t3) + 93 * np.sin(t2)\n",
    "        ],\n",
    "        [0, 0, 0, 1]\n",
    "    ])\n",
    "\n",
    "\n",
    "def forward_kinematics4(t1, t2, t3, t4):\n",
    "    \"\"\" straight out of chatgpt \"\"\"\n",
    "    # Row 1\n",
    "    r11 = (cos(t4 + t3 + t1 + t2) + cos(-t4 - t3 + t1 - t2)) / 2\n",
    "    r12 = (-sin(t4 + t3 + t1 + t2) + sin(-t4 - t3 + t1 - t2)) / 2\n",
    "    r13 = sin(t1)\n",
    "    r14 = (25 * cos(t4 + t3 + t1 + t2) + 25 * cos(-t4 - t3 + t1 - t2) +\n",
    "           (93 * cos(-t3 + t1 - t2) + 93 * cos(t3 + t1 + t2) + \n",
    "           93 * cos(t1 - t2) + 93 * cos(t1 + t2)) / 2)\n",
    "\n",
    "    # Row 2\n",
    "    r21 = (sin(-t4 - t3 + t1 - t2) + sin(t4 + t3 + t1 + t2)) / 2\n",
    "    r22 = (-cos(-t4 - t3 + t1 - t2) + cos(t4 + t3 + t1 + t2)) / 2\n",
    "    r23 = -cos(t1)\n",
    "    r24 = (25 * sin(-t4 - t3 + t1 - t2) + 25 * sin(t4 + t3 + t1 + t2) +\n",
    "           (93 * sin(t3 + t1 + t2) + 93 * sin(-t3 + t1 - t2) + \n",
    "           93 * sin(t1 + t2) + 93 * sin(t1 - t2)) / 2)\n",
    "\n",
    "    # Row 3\n",
    "    r31 = sin(t2 + t3 + t4)\n",
    "    r32 = cos(t2 + t3 + t4)\n",
    "    r33 = 0\n",
    "    r34 = 50 + 50 * sin(t2 + t3 + t4) + 93 * sin(t2 + t3) + 93 * sin(t2)\n",
    "\n",
    "    # Row 4 (last row in homogeneous transformation matrices)\n",
    "    r41 = 0\n",
    "    r42 = 0\n",
    "    r43 = 0\n",
    "    r44 = 1\n",
    "\n",
    "    # Assembling the 4x4 matrix as a nested list\n",
    "    transformation_matrix = [\n",
    "        [r11, r12, r13, r14],\n",
    "        [r21, r22, r23, r24],\n",
    "        [r31, r32, r33, r34],\n",
    "        [r41, r42, r43, r44]\n",
    "    ]\n",
    "\n",
    "    return np.array(transformation_matrix)\n"
   ]
  },
  {
   "cell_type": "code",
   "execution_count": 12,
   "metadata": {},
   "outputs": [],
   "source": [
    "# Sanity check\n",
    "start = (0, 0, 286, pi/2)\n",
    "end = forward_kinematics4(*inv_kinematics(*start))\n",
    "\n",
    "# See: https://stackoverflow.com/questions/15262897/how-can-i-get-the-angle-from-a-matrix\n",
    "angle = acos((np.trace(end) - 1) / 2)\n",
    "\n",
    "assert np.isclose(end[:3, -1], start[:3]).all(), f\"Position is wrong: {end[:3, -1]}\"\n",
    "assert np.isclose(start[-1], angle), f\"Angle is wrong: {start[-1]}\""
   ]
  },
  {
   "cell_type": "code",
   "execution_count": 13,
   "metadata": {},
   "outputs": [
    {
     "ename": "NameError",
     "evalue": "name 'target' is not defined",
     "output_type": "error",
     "traceback": [
      "\u001b[1;31m---------------------------------------------------------------------------\u001b[0m",
      "\u001b[1;31mNameError\u001b[0m                                 Traceback (most recent call last)",
      "Cell \u001b[1;32mIn[13], line 1\u001b[0m\n\u001b[1;32m----> 1\u001b[0m t1, t2, t3, t4 \u001b[38;5;241m=\u001b[39m inv_kinematics(\u001b[38;5;241m*\u001b[39m\u001b[43mtarget\u001b[49m)\n\u001b[0;32m      2\u001b[0m t1, t2, t3, t4\n",
      "\u001b[1;31mNameError\u001b[0m: name 'target' is not defined"
     ]
    }
   ],
   "source": [
    "t1, t2, t3, t4 = inv_kinematics(*target)\n",
    "t1, t2, t3, t4"
   ]
  },
  {
   "cell_type": "code",
   "execution_count": 14,
   "metadata": {},
   "outputs": [
    {
     "name": "stdout",
     "output_type": "stream",
     "text": [
      "[150. -32. 120.   1.] (150, -32, 120, 0)\n"
     ]
    },
    {
     "data": {
      "image/png": "[encoded data removed]",
      "text/plain": [
       "<Figure size 640x480 with 1 Axes>"
      ]
     },
     "metadata": {},
     "output_type": "display_data"
    }
   ],
   "source": [
    "target = (150, -32, 120, 0) # x,y,z,phi # pi/2 points up\n",
    "t1, t2, t3, t4 = inv_kinematics(*target)\n",
    "\n",
    "T_0_1 = forward_kinematics1(t1)\n",
    "T_0_2 = forward_kinematics2(t1, t2)\n",
    "T_0_3 = forward_kinematics3(t1, t2, t3)\n",
    "T_0_4 = forward_kinematics4(t1, t2, t3, t4)\n",
    "\n",
    "origin = np.array([0, 0, 0, 1])\n",
    "joint1_position = (T_0_1 @ origin)\n",
    "joint2_position = (T_0_2 @ origin)\n",
    "joint3_position = (T_0_3 @ origin)\n",
    "joint4_position = (T_0_4 @ origin)\n",
    "\n",
    "joint1_position[:3], joint2_position[:3], joint3_position[:3], joint4_position[:3]\n",
    "\n",
    "joints = np.array([\n",
    "    origin[:3], joint1_position[:3], joint2_position[:3], joint3_position[:3], joint4_position[:3]\n",
    "])\n",
    "joints\n",
    "\n",
    "ax = plt.figure().add_subplot(projection='3d')\n",
    "ax.set_xlim(-150, 150)\n",
    "ax.set_ylim(-150, 150)\n",
    "ax.set_zlim(0, 150)\n",
    "ax.set_xlabel(\"x\")\n",
    "ax.set_ylabel(\"y\")\n",
    "ax.set_zlabel(\"z\")\n",
    "\n",
    "for a, b in zip(joints, joints[1:]):\n",
    "    ax.plot([a[0], b[0]], [a[1],b[1]],zs=[a[2],b[2]])\n",
    "\n",
    "ax.scatter(joints[:,0], joints[:,1], zs=joints[:,2], c='black')\n",
    "\n",
    "# ax.view_init(elev=45, azim=90, roll=0)\n",
    "\n",
    "print(joint4_position, target)\n",
    "plt.show()"
   ]
  },
  {
   "cell_type": "markdown",
   "metadata": {},
   "source": [
    "# Problem 3"
   ]
  },
  {
   "cell_type": "code",
   "execution_count": 15,
   "metadata": {},
   "outputs": [
    {
     "name": "stdout",
     "output_type": "stream",
     "text": [
      "[[150.          32.         120.        ]\n",
      " [150.          31.5138481  125.55674169]\n",
      " [150.          30.07016387 130.94464459]]\n"
     ]
    },
    {
     "data": {
      "image/png": "[encoded data removed]",
      "text/plain": [
       "<Figure size 640x480 with 1 Axes>"
      ]
     },
     "metadata": {},
     "output_type": "display_data"
    }
   ],
   "source": [
    "def point_on_circle(phi: float, radius: float = 32):\n",
    "    centre = np.array([150, 0, 120])\n",
    "    return centre + radius * np.array([0, cos(phi), sin(phi)])\n",
    "\n",
    "# around 0 - for testing\n",
    "# def point_on_circle(phi: float, radius: float = 32):\n",
    "#     centre = np.array([0, 0, 100])\n",
    "#     return centre + radius * np.array([cos(phi), sin(phi),0])\n",
    "\n",
    "ps = [point_on_circle(np.deg2rad(i)) for i in range(0, 360, 10)]\n",
    "ps = np.array(ps)\n",
    "print(ps[:3])\n",
    "plt.scatter(ps[:,1], ps[:,2])\n",
    "# plt.scatter(ps[:,0], ps[:,1]) # around 0\n",
    "plt.gca().set_aspect('equal')\n",
    "\n",
    "plt.show()"
   ]
  },
  {
   "cell_type": "code",
   "execution_count": 16,
   "metadata": {},
   "outputs": [
    {
     "data": {
      "image/png": "[encoded data removed]",
      "text/plain": [
       "<Figure size 480x480 with 1 Axes>"
      ]
     },
     "metadata": {},
     "output_type": "display_data"
    }
   ],
   "source": [
    "from matplotlib import colors\n",
    "from matplotlib import cm\n",
    "\n",
    "# %matplotlib inline\n",
    "\n",
    "fig = plt.figure(figsize=plt.figaspect(1))\n",
    "ax = fig.add_subplot(projection='3d')\n",
    "# ax.set_xlim(-75, 75)\n",
    "# ax.set_ylim(-75, 75)\n",
    "# ax.set_zlim(0, 150)\n",
    "ax.set_xlabel(\"x\")\n",
    "ax.set_ylabel(\"y\")\n",
    "ax.set_zlabel(\"z\")\n",
    "\n",
    "norm = colors.Normalize(vmin=0, vmax=len(ps))\n",
    "\n",
    "for i, p in enumerate(ps):\n",
    "    target = (*p, 0) # x,y,z,phi\n",
    "    t1, t2, t3, t4 = inv_kinematics(*target)\n",
    "\n",
    "    T_0_1 = forward_kinematics1(t1)\n",
    "    T_0_2 = forward_kinematics2(t1, t2)\n",
    "    T_0_3 = forward_kinematics3(t1, t2, t3)\n",
    "    T_0_4 = forward_kinematics4(t1, t2, t3, t4)\n",
    "\n",
    "    origin = np.array([0, 0, 0, 1])\n",
    "    joint1_position = (T_0_1 @ origin)\n",
    "    joint2_position = (T_0_2 @ origin)\n",
    "    joint3_position = (T_0_3 @ origin)\n",
    "    joint4_position = (T_0_4 @ origin)\n",
    "\n",
    "    joint1_position[:3], joint2_position[:3], joint3_position[:3], joint4_position[:3]\n",
    "\n",
    "    joints = np.array([\n",
    "        origin[:3], joint1_position[:3], joint2_position[:3], joint3_position[:3], joint4_position[:3]\n",
    "    ])\n",
    "    colors = ['red', 'green', 'blue', 'orange']\n",
    "    for a, b in zip(joints, joints[1:]):\n",
    "        ax.plot([a[0], b[0]], [a[1],b[1]],zs=[a[2],b[2]], c = cm.jet(norm(i)))\n",
    "\n",
    "    ax.scatter(joints[-1,0], joints[-1,1], zs=joints[-1,2], c='black')\n",
    "\n",
    "ax.view_init(elev=0, azim=90, roll=0)\n",
    "# ax.view_init(elev=0, azim=180, roll=0)\n",
    "\n",
    "plt.show()"
   ]
  },
  {
   "cell_type": "code",
   "execution_count": 17,
   "metadata": {},
   "outputs": [
    {
     "data": {
      "text/plain": [
       "array([[ 0.2102,  1.4302,  4.6133, -6.0435],\n",
       "       [ 0.2071,  1.4437,  4.659 , -6.1027],\n",
       "       [ 0.1978,  1.4556,  4.7043, -6.1599],\n",
       "       [ 0.1827,  1.4656,  4.7478, -6.2134],\n",
       "       [ 0.162 ,  1.4737,  4.788 , -6.2618],\n",
       "       [ 0.1363,  1.4801,  4.8235, -6.3036],\n",
       "       [ 0.1063,  1.4848,  4.8528, -6.3376],\n",
       "       [ 0.0728,  1.488 ,  4.8747, -6.3627],\n",
       "       [ 0.037 ,  1.4898,  4.8883, -6.3782],\n",
       "       [ 0.    ,  1.4904,  4.8929, -6.3834],\n",
       "       [-0.037 ,  1.4898,  4.8883, -6.3782],\n",
       "       [-0.0728,  1.488 ,  4.8747, -6.3627],\n",
       "       [-0.1063,  1.4848,  4.8528, -6.3376],\n",
       "       [-0.1363,  1.4801,  4.8235, -6.3036],\n",
       "       [-0.162 ,  1.4737,  4.788 , -6.2618],\n",
       "       [-0.1827,  1.4656,  4.7478, -6.2134],\n",
       "       [-0.1978,  1.4556,  4.7043, -6.1599],\n",
       "       [-0.2071,  1.4437,  4.659 , -6.1027],\n",
       "       [-0.2102,  1.4302,  4.6133, -6.0435],\n",
       "       [-0.2071,  1.4152,  4.5686, -5.9838],\n",
       "       [-0.1978,  1.3992,  4.526 , -5.9253],\n",
       "       [-0.1827,  1.3829,  4.4869, -5.8698],\n",
       "       [-0.162 ,  1.3669,  4.452 , -5.8189],\n",
       "       [-0.1363,  1.3521,  4.4224, -5.7745],\n",
       "       [-0.1063,  1.3393,  4.3986, -5.7379],\n",
       "       [-0.0728,  1.3295,  4.3813, -5.7108],\n",
       "       [-0.037 ,  1.3233,  4.3707, -5.694 ],\n",
       "       [-0.    ,  1.3212,  4.3672, -5.6883],\n",
       "       [ 0.037 ,  1.3233,  4.3707, -5.694 ],\n",
       "       [ 0.0728,  1.3295,  4.3813, -5.7108],\n",
       "       [ 0.1063,  1.3393,  4.3986, -5.7379],\n",
       "       [ 0.1363,  1.3521,  4.4224, -5.7745],\n",
       "       [ 0.162 ,  1.3669,  4.452 , -5.8189],\n",
       "       [ 0.1827,  1.3829,  4.4869, -5.8698],\n",
       "       [ 0.1978,  1.3992,  4.526 , -5.9253],\n",
       "       [ 0.2071,  1.4152,  4.5686, -5.9838]])"
      ]
     },
     "execution_count": 17,
     "metadata": {},
     "output_type": "execute_result"
    }
   ],
   "source": [
    "np.round([inv_kinematics(*p, 0) for p in ps],4)"
   ]
  },
  {
   "cell_type": "markdown",
   "metadata": {},
   "source": [
    "# Problem 4"
   ]
  },
  {
   "cell_type": "code",
   "execution_count": 18,
   "metadata": {},
   "outputs": [],
   "source": [
    "def jacobian(theta):\n",
    "\n",
    "    z0 = np.array([0,0,1])\n",
    "    o0 = np.zeros(3)\n",
    "\n",
    "    z1 = forward_kinematics1(*inv_kinematics(*point_on_circle(theta), 0))[:3, 2]\n",
    "    o1 = forward_kinematics1(*inv_kinematics(*point_on_circle(theta), 0))[:3, 3]\n",
    "\n",
    "    z2 = forward_kinematics2(*inv_kinematics(*point_on_circle(theta), 0))[:3, 2]\n",
    "    o2 = forward_kinematics2(*inv_kinematics(*point_on_circle(theta), 0))[:3, 3]\n",
    "\n",
    "    z3 = forward_kinematics3(*inv_kinematics(*point_on_circle(theta), 0))[:3, 2]\n",
    "    o3 = forward_kinematics3(*inv_kinematics(*point_on_circle(theta), 0))[:3, 3]\n",
    "\n",
    "    z4 = forward_kinematics4(*inv_kinematics(*point_on_circle(theta), 0))[:3, 2]\n",
    "    o4 = forward_kinematics4(*inv_kinematics(*point_on_circle(theta), 0))[:3, 3]\n",
    "    \n",
    "    J1 = np.vstack([np.cross(z0, (o4 - o0)).reshape(-1,1), z0.reshape(-1,1)])\n",
    "    J2 = np.vstack([np.cross(z1, (o4 - o1)).reshape(-1,1), z1.reshape(-1,1)])\n",
    "    J3 = np.vstack([np.cross(z2, (o4 - o2)).reshape(-1,1), z2.reshape(-1,1)])\n",
    "    J4 = np.vstack([np.cross(z3, (o4 - o3)).reshape(-1,1), z3.reshape(-1,1)])\n",
    "    \n",
    "    return np.hstack([J1,J2,J3,J4])\n",
    "\n",
    "# jacobian(0) * 1/1000\n",
    "# jacobian(pi/2)\n",
    "# jacobian(pi)\n",
    "# jacobian(3*pi / 2)"
   ]
  },
  {
   "cell_type": "code",
   "execution_count": 19,
   "metadata": {},
   "outputs": [
    {
     "data": {
      "text/plain": [
       "array([[ 0.        , -0.102     , -0.00930018, -0.        ],\n",
       "       [ 0.15      , -0.        , -0.        ,  0.        ],\n",
       "       [ 0.        ,  0.15      ,  0.14253381,  0.05      ]])"
      ]
     },
     "execution_count": 19,
     "metadata": {},
     "output_type": "execute_result"
    }
   ],
   "source": [
    "(jacobian(pi/2) / 1000)[:3]"
   ]
  },
  {
   "cell_type": "code",
   "execution_count": 20,
   "metadata": {},
   "outputs": [
    {
     "data": {
      "text/plain": [
       "(array([[-20.],\n",
       "        [  0.],\n",
       "        [ -0.],\n",
       "        [ -0.]]),\n",
       " array([], dtype=float64),\n",
       " np.int32(3),\n",
       " array([0.22798756, 0.15      , 0.06187126]))"
      ]
     },
     "execution_count": 20,
     "metadata": {},
     "output_type": "execute_result"
    }
   ],
   "source": [
    "np.linalg.lstsq((jacobian(pi/2) / 1000)[:3], np.array([0,-3,0]).reshape(-1,1), rcond=None)\n"
   ]
  },
  {
   "cell_type": "code",
   "execution_count": 21,
   "metadata": {},
   "outputs": [
    {
     "data": {
      "text/plain": [
       "((4, 6), np.int64(4))"
      ]
     },
     "execution_count": 21,
     "metadata": {},
     "output_type": "execute_result"
    }
   ],
   "source": [
    "phi = pi / 2\n",
    "\n",
    "# Since our robot doesnt have 6 links we cant inverse the matrix\n",
    "# np.linalg.inv(jacobian(phi))\n",
    "\n",
    "J = jacobian(phi)\n",
    "\n",
    "# pseudo inv\n",
    "J_inv = np.linalg.inv(J.T @ J) @ J.T    # under actuated\n",
    "# J_inv = J.T @ np.linalg.inv(J @ J.T)    # over actuated\n",
    "\n",
    "\n",
    "J_inv.shape, np.linalg.matrix_rank(J)"
   ]
  },
  {
   "cell_type": "code",
   "execution_count": null,
   "metadata": {},
   "outputs": [],
   "source": []
  },
  {
   "cell_type": "code",
   "execution_count": 22,
   "metadata": {},
   "outputs": [
    {
     "data": {
      "text/plain": [
       "array([[   0.        , -102.        ,   -9.30018309,   -0.        ],\n",
       "       [ 150.        ,   -0.        ,   -0.        ,    0.        ],\n",
       "       [   0.        ,  150.        ,  142.53381325,   50.        ],\n",
       "       [   0.        ,    0.        ,    0.        ,    0.        ],\n",
       "       [   0.        ,   -1.        ,   -1.        ,   -1.        ],\n",
       "       [   1.        ,    0.        ,    0.        ,    0.        ]])"
      ]
     },
     "execution_count": 22,
     "metadata": {},
     "output_type": "execute_result"
    }
   ],
   "source": [
    "J"
   ]
  },
  {
   "cell_type": "code",
   "execution_count": 23,
   "metadata": {},
   "outputs": [
    {
     "data": {
      "text/plain": [
       "array([-450.,   -0.,   -0.,    0.])"
      ]
     },
     "execution_count": 23,
     "metadata": {},
     "output_type": "execute_result"
    }
   ],
   "source": [
    "R = forward_kinematics4(*inv_kinematics(*point_on_circle(phi), 0))[:3, :3]\n",
    "\n",
    "\n",
    "v = np.array([0, -3, 0])\n",
    "w = cv2.Rodrigues(R)[0].flatten() # WRONG\n",
    "\n",
    "\n",
    "xi = np.hstack([v,w])\n",
    "\n",
    "np.linalg.lstsq(J_inv.T, xi, rcond=None)[0]"
   ]
  },
  {
   "cell_type": "code",
   "execution_count": 24,
   "metadata": {},
   "outputs": [
    {
     "data": {
      "text/plain": [
       "array([[ 1.,  0.,  0.],\n",
       "       [ 0.,  0., -1.],\n",
       "       [ 0.,  1.,  0.]])"
      ]
     },
     "execution_count": 24,
     "metadata": {},
     "output_type": "execute_result"
    }
   ],
   "source": [
    "R"
   ]
  },
  {
   "cell_type": "code",
   "execution_count": 25,
   "metadata": {},
   "outputs": [],
   "source": [
    "def temporal_rate(R, w) -> np.ndarray:\n",
    "    x_dot = np.array([\n",
    "        [R[2,0] * w[1] - R[1,0] * w[2], R[2,1] * w[1] - R[1,1] * w[2], R[2,2] * w[1] - R[1,2] * w[2]],\n",
    "        [R[0,0] * w[2] - R[2,0] * w[0], R[0,1] * w[2] - R[2,1] * w[0], R[0,2] * w[2] - R[2,2] * w[0]],\n",
    "        [R[1,0] * w[0] - R[0,0] * w[1], R[1,1] * w[0] - R[0,1] * w[1], R[1,2] * w[0] - R[0,2] * w[1]],\n",
    "    ])\n",
    "    return x_dot"
   ]
  },
  {
   "cell_type": "code",
   "execution_count": 26,
   "metadata": {},
   "outputs": [
    {
     "data": {
      "text/plain": [
       "array([[ 0.        ,  0.        ,  0.        ],\n",
       "       [ 0.        , -1.57079633,  0.        ],\n",
       "       [-0.        ,  0.        , -1.57079633]])"
      ]
     },
     "execution_count": 26,
     "metadata": {},
     "output_type": "execute_result"
    }
   ],
   "source": [
    "R, R[1,2], w\n",
    "\n",
    "temporal_rate(R, w)"
   ]
  },
  {
   "cell_type": "code",
   "execution_count": 29,
   "metadata": {},
   "outputs": [
    {
     "data": {
      "text/plain": [
       "array([[ 0.        ,  0.        ,  0.        ],\n",
       "       [ 0.        , -1.57079633,  0.        ],\n",
       "       [-0.        ,  0.        , -1.57079633]])"
      ]
     },
     "execution_count": 29,
     "metadata": {},
     "output_type": "execute_result"
    }
   ],
   "source": [
    "temporal_rate(R, w)"
   ]
  },
  {
   "cell_type": "code",
   "execution_count": 35,
   "metadata": {},
   "outputs": [
    {
     "data": {
      "text/plain": [
       "array([[ 0.  ,  0.  , -0.02],\n",
       "       [-0.02, -0.  , -0.  ],\n",
       "       [ 0.  ,  0.  , -0.  ]])"
      ]
     },
     "execution_count": 35,
     "metadata": {},
     "output_type": "execute_result"
    }
   ],
   "source": [
    "_w = np.array([0, 0, -0.02])\n",
    "temporal_rate(R, _w)"
   ]
  },
  {
   "cell_type": "markdown",
   "metadata": {},
   "source": [
    "# Problem 5"
   ]
  },
  {
   "cell_type": "code",
   "execution_count": null,
   "metadata": {},
   "outputs": [
    {
     "data": {
      "text/plain": [
       "array([150.,   0., 152.])"
      ]
     },
     "execution_count": 21,
     "metadata": {},
     "output_type": "execute_result"
    }
   ],
   "source": [
    "point_on_circle(pi/2)"
   ]
  }
 ],
 "metadata": {
  "kernelspec": {
   "display_name": ".venv",
   "language": "python",
   "name": "python3"
  },
  "language_info": {
   "codemirror_mode": {
    "name": "ipython",
    "version": 3
   },
   "file_extension": ".py",
   "mimetype": "text/x-python",
   "name": "python",
   "nbconvert_exporter": "python",
   "pygments_lexer": "ipython3",
   "version": "3.10.11"
  }
 },
 "nbformat": 4,
 "nbformat_minor": 2
}
