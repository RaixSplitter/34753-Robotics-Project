{
 "cells": [
  {
   "cell_type": "code",
   "execution_count": 1,
   "metadata": {},
   "outputs": [],
   "source": [
    "import numpy as np\n",
    "import matplotlib.pyplot as plt\n"
   ]
  },
  {
   "cell_type": "code",
   "execution_count": 7,
   "metadata": {},
   "outputs": [],
   "source": [
    "def A_dh(theta, d, a, alpha, type, radians = False):\n",
    "    if not radians:\n",
    "        theta = theta / 180 * np.pi\n",
    "    if not radians:\n",
    "        alpha = alpha / 180 * np.pi\n",
    "    return np.array([\n",
    "        [np.cos(theta), -np.sin(theta)*np.cos(alpha), np.sin(theta)*np.sin(alpha), a*np.cos(theta)],\n",
    "        [np.sin(theta), np.cos(theta)*np.cos(alpha), -np.cos(theta)*np.sin(alpha), a*np.sin(theta)],\n",
    "        [0, np.sin(alpha), np.cos(alpha), d],\n",
    "        [0, 0, 0, 1]\n",
    "    ])\n",
    "    \n",
    "def A_trans(x, y, z, type):\n",
    "    return np.array([\n",
    "        [1, 0, 0, x],\n",
    "        [0, 1, 0, y],\n",
    "        [0, 0, 1, z],\n",
    "        [0, 0, 0, 1]\n",
    "    ])"
   ]
  },
  {
   "cell_type": "code",
   "execution_count": 8,
   "metadata": {},
   "outputs": [],
   "source": [
    "dh_conv = {\n",
    "    1 : {'theta': 0, 'd': 50/1000, 'a': 0, 'alpha': 90, 'type': 'revolute'},\n",
    "    2 : {'theta': 0, 'd': 0, 'a': 93/1000, 'alpha': 0, 'type': 'revolute'},\n",
    "    3 : {'theta': 0, 'd': 0, 'a': 93/1000, 'alpha': 0, 'type': 'revolute'},\n",
    "    4 : {'theta': 0, 'd': 0, 'a': 50/1000, 'alpha': 0, 'type': 'revolute'},\n",
    "    5: {'x' : -15/1000, 'y' : 45/1000, 'z' : 0, 'type': 'transformation'}\n",
    "}\n",
    "\n"
   ]
  },
  {
   "cell_type": "code",
   "execution_count": null,
   "metadata": {},
   "outputs": [],
   "source": [
    "A = {\n",
    "    '01' : A_dh(**dh_conv[1]),\n",
    "    '12' : A_dh(**dh_conv[2]),\n",
    "    '23' : A_dh(**dh_conv[3]),\n",
    "    '34' : A_dh(**dh_conv[4]),\n",
    "    '45' : A_trans(**dh_conv[5])\n",
    "}"
   ]
  },
  {
   "cell_type": "code",
   "execution_count": null,
   "metadata": {},
   "outputs": [],
   "source": [
    "T = {\n",
    "    '00' : np.eye(4),\n",
    "    '01' : A['01'],\n",
    "    '02' : A['01'] @ A['12'],\n",
    "    '03' : A['01'] @ A['12'] @ A['23'],\n",
    "    '04' : A['01'] @ A['12'] @ A['23'] @ A['34'],\n",
    "    '05' : A['45'] @ A['01'] @ A['12'] @ A['23'] @ A['34']\n",
    "}"
   ]
  }
 ],
 "metadata": {
  "kernelspec": {
   "display_name": ".venv",
   "language": "python",
   "name": "python3"
  },
  "language_info": {
   "codemirror_mode": {
    "name": "ipython",
    "version": 3
   },
   "file_extension": ".py",
   "mimetype": "text/x-python",
   "name": "python",
   "nbconvert_exporter": "python",
   "pygments_lexer": "ipython3",
   "version": "3.10.11"
  }
 },
 "nbformat": 4,
 "nbformat_minor": 2
}
