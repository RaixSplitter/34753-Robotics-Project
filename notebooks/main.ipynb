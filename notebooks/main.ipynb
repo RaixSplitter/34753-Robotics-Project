{
 "cells": [
  {
   "cell_type": "code",
   "execution_count": 136,
   "metadata": {},
   "outputs": [],
   "source": [
    "import numpy as np\n",
    "import matplotlib.pyplot as plt\n"
   ]
  },
  {
   "cell_type": "code",
   "execution_count": 137,
   "metadata": {},
   "outputs": [],
   "source": [
    "def A_dh(theta, d, a, alpha, radians = False):\n",
    "    return np.array([\n",
    "        [np.cos(theta), -np.sin(theta)*np.cos(alpha), np.sin(theta)*np.sin(alpha), a*np.cos(theta)],\n",
    "        [np.sin(theta), np.cos(theta)*np.cos(alpha), -np.cos(theta)*np.sin(alpha), a*np.sin(theta)],\n",
    "        [0, np.sin(alpha), np.cos(alpha), d],\n",
    "        [0, 0, 0, 1]\n",
    "    ])\n",
    "    \n",
    "def A_trans(x, y, z):\n",
    "    return np.array([\n",
    "        [1, 0, 0, x],\n",
    "        [0, 1, 0, y],\n",
    "        [0, 0, 1, z],\n",
    "        [0, 0, 0, 1]\n",
    "    ])"
   ]
  },
  {
   "cell_type": "code",
   "execution_count": 138,
   "metadata": {},
   "outputs": [],
   "source": [
    "dh_conv = {\n",
    "    1 : {'theta': 0, 'd': 50/1000, 'a': 0, 'alpha': np.pi/2, 'type': 'revolute'},\n",
    "    2 : {'theta': 0, 'd': 0, 'a': 93/1000, 'alpha': 0, 'type': 'revolute'},\n",
    "    3 : {'theta': 0, 'd': 0, 'a': 93/1000, 'alpha': 0, 'type': 'revolute'},\n",
    "    4 : {'theta': 0, 'd': 0, 'a': 50/1000, 'alpha': 0, 'type': 'revolute'},\n",
    "    5: {'x' : -15/1000, 'y' : 45/1000, 'z' : 0, 'type': 'transformation'}\n",
    "}\n",
    "\n"
   ]
  },
  {
   "cell_type": "code",
   "execution_count": 142,
   "metadata": {},
   "outputs": [],
   "source": [
    "def A(phi, id):\n",
    "\n",
    "    theta_01, d_01, a_01, alpha_01, type_01 = dh_conv[1].values()\n",
    "    theta_12, d_12, a_12, alpha_12, type_12 = dh_conv[2].values()\n",
    "    theta_23, d_23, a_23, alpha_23, type_23 = dh_conv[3].values()\n",
    "    theta_34, d_34, a_34, alpha_34, type_34 = dh_conv[4].values()\n",
    "    x_45, y_45, z_45, type_45 = dh_conv[5].values()\n",
    "\n",
    "    _A = {\n",
    "        \"01\": A_dh(phi, d_01, a_01, alpha_01),\n",
    "        \"12\": A_dh(phi, d_12, a_12, alpha_12),\n",
    "        \"23\": A_dh(phi, d_23, a_23, alpha_23),\n",
    "        \"34\": A_dh(phi, d_34, a_34, alpha_34),\n",
    "        \"45\": A_trans(x_45, y_45, z_45),\n",
    "    }\n",
    "    return _A[id]\n",
    "\n",
    "\n",
    "def T(theta_1, theta_2, theta_3, theta_4, id):\n",
    "    _T = {\n",
    "        \"00\": np.eye(4),\n",
    "        \"01\": A(theta_1, \"01\"),\n",
    "        \"02\": np.dot(A(theta_1, \"01\"), A(theta_2, \"12\")),\n",
    "        \"03\": A(theta_1, \"01\") @ A(theta_2, \"12\") @ A(theta_3, \"23\"),\n",
    "        \"04\": A(theta_1, \"01\") @ A(theta_2, \"12\") @ A(theta_3, \"23\") @ A(theta_4, \"34\"),\n",
    "        \"05\": A(0, \"45\") @ A(theta_1, \"01\") @ A(theta_2, \"12\") @ A(theta_3, \"23\") @ A(theta_4, \"34\"),\n",
    "    }\n",
    "    \n",
    "    return _T[id]\n",
    "    \n",
    "    "
   ]
  },
  {
   "cell_type": "code",
   "execution_count": 143,
   "metadata": {},
   "outputs": [
    {
     "data": {
      "text/plain": [
       "(np.float64(1.7809789134570662),\n",
       " np.float64(-0.23973021695178431),\n",
       " np.float64(1.6699026205990042),\n",
       " np.float64(-1.4301724036472199))"
      ]
     },
     "execution_count": 143,
     "metadata": {},
     "output_type": "execute_result"
    }
   ],
   "source": [
    "def inv_kinematics(x,y,z,phi, dh_conv):\n",
    "    \"\"\"\n",
    "    Hardcoded inverse kinematics for the robot arm\n",
    "    \"\"\"\n",
    "    \n",
    "    theta1 = np.atan2(y, x)\n",
    "    \n",
    "    a2 = dh_conv[2]['a']\n",
    "    a3 = dh_conv[3]['a']\n",
    "    a4 = dh_conv[4]['a']\n",
    "    \n",
    "    d1 = dh_conv[1]['d']\n",
    "    \n",
    "    r = np.sqrt(x**2 + y**2)\n",
    "    r2 = np.cos(phi)*a4\n",
    "    \n",
    "    #Given r = r1 + r2\n",
    "    r1 = r - r2\n",
    "    \n",
    "    z1 = d1\n",
    "    z3 = np.sin(phi)*a4\n",
    "    \n",
    "    #Given z = z1 + z2 + z3\n",
    "    z2 = z - z1 - z3\n",
    "    \n",
    "    c23 = np.sqrt(z2**2 + r1**2)\n",
    "    \n",
    "    c3 = ((c23**2) - (a2**2) - (a3**2)) / (2*a2*a3)\n",
    "    \n",
    "    \n",
    "    D = (c23**2 - a2**2 - a3**2)/(-2*a2*a3)\n",
    "    theta3 = -(np.atan2(np.sqrt(1-D**2), D) - np.pi)\n",
    "\n",
    "    \n",
    "    # #two solutions for theta3\n",
    "    # print(\"c3\", c3)\n",
    "    \n",
    "    # theta3_1 = atan2(-sqrt(1 - c3**2), c3)\n",
    "    # theta3_2 = atan2(sqrt(1 - c3**2), c3)\n",
    "    \n",
    "    \n",
    "    # print(\"theta3_1\", theta3_1)\n",
    "    # print(\"theta3_2\", theta3_2)\n",
    "    \n",
    "    # theta3 = theta3_1\n",
    "    \n",
    "    theta2 = np.atan2(z2, r1) - np.atan2(a3*np.sin(theta3), a2 + a3*np.cos(theta3))\n",
    "    \n",
    "    theta4 = phi - theta2 - theta3\n",
    "    \n",
    "    \n",
    "    return theta1, theta2, theta3, theta4\n",
    "\n",
    "inv_kinematics(-0.032,0.15, 0.12, 0, dh_conv)\n"
   ]
  },
  {
   "cell_type": "code",
   "execution_count": 144,
   "metadata": {},
   "outputs": [],
   "source": [
    "def point_on_circle(phi: float, radius: float = 32/1000):\n",
    "    centre = np.array([150/1000, 0, 120/1000])\n",
    "    return centre + radius * np.array([0, np.cos(phi), np.sin(phi)])\n",
    "\n",
    "def jacobian_inner(t, joint, o_n):\n",
    "    joint_type = joint['type']\n",
    "    z = t[:3,2]\n",
    "    o = t[:3,3]\n",
    "    \n",
    "    \n",
    "    if joint_type == 'revolute':\n",
    "        j = np.cross(z, o_n - o)\n",
    "        return np.hstack([j, z]).T\n",
    "    else:\n",
    "        return np.hstack([z, np.zeros(3,1)]).T\n",
    "    \n",
    "\n",
    "def jacobian(T_, joints):\n",
    "    o_n = T_[-1][:3,3]\n",
    "    J = np.zeros((6, len(joints)))\n",
    "    for idx, joint in enumerate(joints):\n",
    "        t = T_[idx]\n",
    "        j = jacobian_inner(t, joint, o_n)\n",
    "        \n",
    "        \n",
    "        J[:, idx] = j\n",
    "        \n",
    "    return J\n"
   ]
  },
  {
   "cell_type": "code",
   "execution_count": 166,
   "metadata": {},
   "outputs": [],
   "source": [
    "def jacobian_circle_angle(phi, end_angle, dh_conv):\n",
    "\n",
    "    _thetas = inv_kinematics(*point_on_circle(phi), end_angle, dh_conv)\n",
    "\n",
    "    _T = [T(*_thetas, id) for id in [\"00\", \"01\", \"02\", \"03\", \"04\", \"05\"]]\n",
    "    _joints = list(dh_conv.values())\n",
    "    J = jacobian(_T[:5], _joints[:4])\n",
    "    return J\n",
    "    np.round(J_end, 3)"
   ]
  },
  {
   "cell_type": "code",
   "execution_count": 167,
   "metadata": {},
   "outputs": [],
   "source": [
    "\n",
    "def joint_velocity(phi, velocity, end_angle, dh_conv):\n",
    "    M = jacobian_circle_angle(phi, end_angle, dh_conv)[0:3, :] \n",
    "\n",
    "    N = np.linalg.pinv(M)\n",
    "    \n",
    "    q = N @ velocity\n",
    "    \n",
    "    return q\n",
    "    \n"
   ]
  },
  {
   "cell_type": "code",
   "execution_count": null,
   "metadata": {},
   "outputs": [
    {
     "data": {
      "text/plain": [
       "array([-2.00000000e-02, -3.22981556e-17,  8.26176463e-17, -6.92353575e-17])"
      ]
     },
     "execution_count": 168,
     "metadata": {},
     "output_type": "execute_result"
    }
   ],
   "source": [
    "def interpolation_polynomial(dh_conv, start_angle, end_angle, t_in, t_end, start_vel, end_vel):\n",
    "    \"\"\"Computes polynomial interpolation\"\"\"\n",
    "    point_start = point_on_circle(start_angle)\n",
    "    point_end = point_on_circle(end_angle)\n",
    "    q_in = inv_kinematics(*point_start, 0, dh_conv)\n",
    "    q_end = inv_kinematics(*point_end, 0, dh_conv)\n",
    "    \n",
    "    A_list = []\n",
    "    points = []\n",
    "    # print(t_in, t_end)\n",
    "    for i in range(4):\n",
    "        b = Matrix([q_in[i], start_vel[i], 0, q_end[i], end_vel[i], 0])\n",
    "        \n",
    "        M = Matrix([\n",
    "            [1, t_in, t_in**2, t_in**3, t_in**4, t_in**5],\n",
    "            [0, 1, 2*t_in, 3*t_in**2, 4*t_in**3, 5*t_in**4],\n",
    "            [0, 0, 2, 6*t_in, 12*t_in**2, 20*t_in**3],\n",
    "            [1, t_end, t_end**2, t_end**3, t_end**4, t_end**5],\n",
    "            [0, 1, 2*t_end, 3*t_end**2, 4*t_end**3, 5*t_end**4],\n",
    "            [0, 0, 2, 6*t_end, 12*t_end**2, 20*t_end**3]\n",
    "        ])\n",
    "\n",
    "        M_inv = M.inv()\n",
    "\n",
    "        A = M_inv * b\n",
    "        \n",
    "        A_list.append(A)\n",
    "        points.append(point_start)\n",
    "        \n",
    "        \n",
    "    return A_list, points"
   ]
  },
  {
   "cell_type": "code",
   "execution_count": null,
   "metadata": {},
   "outputs": [],
   "source": []
  }
 ],
 "metadata": {
  "kernelspec": {
   "display_name": ".venv",
   "language": "python",
   "name": "python3"
  },
  "language_info": {
   "codemirror_mode": {
    "name": "ipython",
    "version": 3
   },
   "file_extension": ".py",
   "mimetype": "text/x-python",
   "name": "python",
   "nbconvert_exporter": "python",
   "pygments_lexer": "ipython3",
   "version": "3.10.11"
  }
 },
 "nbformat": 4,
 "nbformat_minor": 2
}
